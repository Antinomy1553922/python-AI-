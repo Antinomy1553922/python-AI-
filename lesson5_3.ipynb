{
 "cells": [
  {
   "cell_type": "code",
   "execution_count": 5,
   "metadata": {},
   "outputs": [
    {
     "name": "stdout",
     "output_type": "stream",
     "text": [
      "請輸入學生分數(1~100):100\n",
      "同學，中午到，理化教室！報到。\n"
     ]
    }
   ],
   "source": [
    "#請輸入學生分數0~100\n",
    "#0~59不及格\n",
    "#60~79及格\n",
    "#80~100優良\n",
    "\n",
    "import pyinputplus as pyip\n",
    "\n",
    "scores = pyip.inputInt(\"請輸入學生分數(1~100):\",max=100,min=0)\n",
    "print(scores)\n",
    "if scores < 60:\n",
    "    print(\"同學，你，得要，重修\")\n",
    "else:\n",
    "    if scores < 80:\n",
    "        print(\"同學，你，得要，抄書\")\n",
    "    else:\n",
    "        print(\"同學，中午到，理化教室！報到。\")"
   ]
  },
  {
   "cell_type": "code",
   "execution_count": 8,
   "metadata": {},
   "outputs": [
    {
     "name": "stdout",
     "output_type": "stream",
     "text": [
      "請輸入學生分數(1~100):60\n",
      "同學，你，得要，抄書\n"
     ]
    }
   ],
   "source": [
    "#請輸入學生分數0~100\n",
    "#0~59不及格\n",
    "#60~79及格\n",
    "#80~100優良\n",
    "\n",
    "#elif：整合if、else變成多項選擇\n",
    "\n",
    "import pyinputplus as pyip\n",
    "\n",
    "scores = pyip.inputInt(\"請輸入學生分數(1~100):\",max=100,min=0)\n",
    "print(scores)\n",
    "if scores < 60:\n",
    "    print(\"同學，你，得要，重修\")\n",
    "elif scores < 80:\n",
    "    print(\"同學，你，得要，抄書\")\n",
    "else:\n",
    "    print(\"同學，中午到，理化教室！報到。\")"
   ]
  },
  {
   "cell_type": "code",
   "execution_count": 12,
   "metadata": {},
   "outputs": [
    {
     "name": "stdout",
     "output_type": "stream",
     "text": [
      "請輸入學生分數：(0~100)90\n",
      "S\n"
     ]
    }
   ],
   "source": [
    "#00(含)~59：D\n",
    "#60(含)~69：C\n",
    "#70(含)~79：B\n",
    "#80(含)~89：A\n",
    "#90(含)~100：S\n",
    "\n",
    "import pyinputplus as pyip\n",
    "\n",
    "scores = pyip.inputInt(\"請輸入學生分數：(0~100)\",max=100,min=0)\n",
    "print(scores)\n",
    "#多項選擇\n",
    "if scores < 60:\n",
    "    print(\"D\")\n",
    "elif scores < 70:\n",
    "    print(\"C\")\n",
    "elif scores < 80:\n",
    "    print(\"B\")\n",
    "elif scores < 90:\n",
    "    print(\"A\")\n",
    "else:\n",
    "    print(\"S\")\n"
   ]
  }
 ],
 "metadata": {
  "kernelspec": {
   "display_name": "Python 3",
   "language": "python",
   "name": "python3"
  },
  "language_info": {
   "codemirror_mode": {
    "name": "ipython",
    "version": 3
   },
   "file_extension": ".py",
   "mimetype": "text/x-python",
   "name": "python",
   "nbconvert_exporter": "python",
   "pygments_lexer": "ipython3",
   "version": "3.10.13"
  }
 },
 "nbformat": 4,
 "nbformat_minor": 2
}
