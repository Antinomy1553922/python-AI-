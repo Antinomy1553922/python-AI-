{
 "cells": [
  {
   "cell_type": "code",
   "execution_count": null,
   "metadata": {},
   "outputs": [],
   "source": [
    "import matplotlib.pyplot as plt\n",
    "import pandas as pd\n",
    "from matplotlib.font_manager import FontProperties\n",
    "font=FontProperties(fname='/usr/share/fonts/truetype/wqy/wqy-zenhei.ttc',size=24)\n",
    "figure = plt.figure()  #畫布\n",
    "axes = figure.add_subplot(1,1,1) #傳出圖表\n",
    "dataFrame.T.plot(ax=axes,style=['-','--'],marker = 'o')  #畫在這個畫布上\n",
    "axes.set_title(\"分數比較表\",fontproperties=font)\n",
    "axes.grid(visible=True,axis='y') #grid  #axie可以自己來管，用dataFrame.plot來畫\n",
    "plt.show()\n",
    "\n",
    "#自動加入axes.legend"
   ]
  }
 ],
 "metadata": {
  "kernelspec": {
   "display_name": "Python 3",
   "language": "python",
   "name": "python3"
  },
  "language_info": {
   "codemirror_mode": {
    "name": "ipython",
    "version": 3
   },
   "file_extension": ".py",
   "mimetype": "text/x-python",
   "name": "python",
   "nbconvert_exporter": "python",
   "pygments_lexer": "ipython3",
   "version": "3.10.13"
  }
 },
 "nbformat": 4,
 "nbformat_minor": 2
}
