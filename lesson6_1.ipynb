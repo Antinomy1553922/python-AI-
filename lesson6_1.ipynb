{
 "cells": [
  {
   "cell_type": "code",
   "execution_count": 5,
   "metadata": {},
   "outputs": [
    {
     "name": "stdout",
     "output_type": "stream",
     "text": [
      "請輸入學生分數：(0~100)Number must be at maximum 100.\n",
      "請輸入學生分數：(0~100)100\n",
      "S\n"
     ]
    }
   ],
   "source": [
    "#作業\n",
    "#00(含)~59：D\n",
    "#60(含)~69：C\n",
    "#70(含)~79：B\n",
    "#80(含)~89：A\n",
    "#90(含)~100：S\n",
    "\n",
    "import pyinputplus as pyip\n",
    "\n",
    "scores = pyip.inputInt(\"請輸入學生分數：(0~100)\",max=100,min=0)\n",
    "print(scores)\n",
    "#多項選擇\n",
    "if scores >= 90:\n",
    "    print(\"S\")\n",
    "elif scores >= 80:\n",
    "    print(\"A\")\n",
    "elif scores >= 70:\n",
    "    print(\"B\")\n",
    "elif scores >= 60:\n",
    "    print(\"C\")\n",
    "else:\n",
    "    print(\"D\")\n",
    "\n",
    "#(1). 5個區塊，只會執行其中一個(沒有不執行，也沒有執行兩個)\n",
    "#(2). 順序：最上面的條件要「比較嚴格的條件」，只要一個為Ture就會離開，所以上面的條件要「比較嚴格」(每執行一行就算一個條件，越往下越多條件)\n",
    "#(3). 前面是False就會往下執行到Ture"
   ]
  },
  {
   "cell_type": "code",
   "execution_count": null,
   "metadata": {},
   "outputs": [],
   "source": []
  },
  {
   "cell_type": "code",
   "execution_count": 11,
   "metadata": {},
   "outputs": [
    {
     "name": "stdout",
     "output_type": "stream",
     "text": [
      "可以色色\n"
     ]
    }
   ],
   "source": [
    "age = 18\n",
    "\n",
    "if age >= 18:\n",
    "    print(\"可以色色\")\n",
    "else:\n",
    "    print(\"不可以色色\")"
   ]
  },
  {
   "cell_type": "code",
   "execution_count": 10,
   "metadata": {},
   "outputs": [
    {
     "name": "stdout",
     "output_type": "stream",
     "text": [
      "可以色色\n"
     ]
    }
   ],
   "source": [
    "#not 運算子\n",
    "age = 18\n",
    "\n",
    "if not age >= 18:\n",
    "    print(\"不可以色色\")\n",
    "else:\n",
    "    print(\"可以色色\")"
   ]
  },
  {
   "cell_type": "code",
   "execution_count": null,
   "metadata": {},
   "outputs": [],
   "source": [
    "#邏輯運算子\n",
    "#and\n",
    "#or\n",
    "#not\n",
    "\n",
    "#not：否定運算子\n",
    "#not：1元運算子，後面是bool(布林值)\n",
    "#not的功用：交換Ture和False的程式區塊\n",
    "#not Ture -> False\n",
    "#只有後面有，後面一定是布林值\n",
    "#布林值可透過比較運算子(> < =)獲得\n",
    "\n",
    "\n",
    "#and：2元運算子\n",
    "#or：2元運算子\n",
    "#bool1 and bool2：兩個布林換一個布林\n",
    "#and not or 都會傳出布林值\n",
    "\n",
    "#and：同時\n",
    "#嚴格得到Ture\n",
    "#bool1= Ture bool2 = Ture 才會傳出Ture 不符合任一都是False\n",
    "#同時符合兩個條件才是Ture\n",
    "\n",
    "#or：或著\n",
    "#輕鬆得到Ture\n",
    "#bool1 or bool2\n",
    "#1或2任一得到Ture 都會傳出Ture\n",
    "#兩個都是False 才會傳出False\n",
    "#符合任一條件就是Ture"
   ]
  },
  {
   "cell_type": "code",
   "execution_count": 20,
   "metadata": {},
   "outputs": [
    {
     "name": "stdout",
     "output_type": "stream",
     "text": [
      "請輸入國文分數：20\n",
      "請輸入數學分數：20\n",
      "獎金:0\n"
     ]
    }
   ],
   "source": [
    "#國文分數100同時數學100，才有獎金1000元\n",
    "#國文分數100或著數學分數100，獎金500元\n",
    "#使用巢狀判斷\n",
    "import pyinputplus as pyip\n",
    "chinese = pyip.inputInt(\"請輸入國文分數：\",min=0,max=100)\n",
    "print(chinese)\n",
    "math = pyip.inputInt(\"請輸入數學分數：\",min=0,max=100)\n",
    "print(math)\n",
    "\n",
    "if chinese == 100:\n",
    "    if math == 100:\n",
    "        bonus = 1000\n",
    "    else:\n",
    "        bonus = 500\n",
    "elif math == 100:\n",
    "    bonus = 500\n",
    "else:\n",
    "    bonus = 0\n",
    "print(f\"獎金:{bonus}\")"
   ]
  },
  {
   "cell_type": "code",
   "execution_count": 24,
   "metadata": {},
   "outputs": [
    {
     "name": "stdout",
     "output_type": "stream",
     "text": [
      "請輸入國文分數：99\n",
      "請輸入數學分數：99\n",
      "獎金:0\n"
     ]
    }
   ],
   "source": [
    "#國文分數100同時數學100，才有獎金1000元\n",
    "#國文分數100或著數學分數100，獎金500元\n",
    "#使用邏輯運算子\n",
    "import pyinputplus as pyip\n",
    "chinese = pyip.inputInt(\"請輸入國文分數：\",min=0,max=100)\n",
    "print(chinese)\n",
    "math = pyip.inputInt(\"請輸入數學分數：\",min=0,max=100)\n",
    "print(math)\n",
    "\n",
    "if chinese == 100 and math == 100:\n",
    "    bonus = 1000\n",
    "elif chinese == 100 or math == 100:\n",
    "    bonus = 500\n",
    "else:\n",
    "    bonus = 0\n",
    "\n",
    "print(f\"獎金:{bonus}\")"
   ]
  }
 ],
 "metadata": {
  "kernelspec": {
   "display_name": "Python 3",
   "language": "python",
   "name": "python3"
  },
  "language_info": {
   "codemirror_mode": {
    "name": "ipython",
    "version": 3
   },
   "file_extension": ".py",
   "mimetype": "text/x-python",
   "name": "python",
   "nbconvert_exporter": "python",
   "pygments_lexer": "ipython3",
   "version": "3.10.13"
  }
 },
 "nbformat": 4,
 "nbformat_minor": 2
}
