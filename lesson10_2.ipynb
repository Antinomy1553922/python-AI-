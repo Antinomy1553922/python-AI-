{
 "cells": [
  {
   "cell_type": "code",
   "execution_count": null,
   "metadata": {},
   "outputs": [],
   "source": [
    "#用with，with在讀完後會自動關閉\n",
    "with open(\"names.txt\",mode=\"r\",encoding=\"utf-8\") as file:\n",
    "    names:str = file.read()\n",
    "\n",
    "nameList:list[str] = names.split(\"\\n\")\n",
    "\n",
    "print(type(names))\n",
    "print()\n",
    "\n",
    "for names in nameList:\n",
    "    print(names)"
   ]
  },
  {
   "cell_type": "code",
   "execution_count": 11,
   "metadata": {},
   "outputs": [
    {
     "name": "stdout",
     "output_type": "stream",
     "text": [
      "命名選取器(請輸入1~10)您有以下建議的名字\n",
      "['葉祖雄', '林昱芳', '陳冠霞', '楊韋廷', '艾巧夫', '游倫城', '張彥博', '白美珍', '陳向愛', '王明昇']\n"
     ]
    }
   ],
   "source": [
    "import random\n",
    "import pyinputplus as pyip\n",
    "\n",
    "number:int = pyip.inputInt(\"命名選取器(請輸入1~10)\",min=1,max=10)\n",
    "print(\"您有以下建議的名字\")\n",
    "namePart:list[str] = random.choices(nameList,k=number)\n",
    "print(namePart)"
   ]
  },
  {
   "cell_type": "code",
   "execution_count": 12,
   "metadata": {},
   "outputs": [
    {
     "data": {
      "text/plain": [
       "[56, 78, 92, 87, 95]"
      ]
     },
     "execution_count": 12,
     "metadata": {},
     "output_type": "execute_result"
    }
   ],
   "source": [
    "[56,78,92,87,95]"
   ]
  },
  {
   "cell_type": "code",
   "execution_count": 16,
   "metadata": {},
   "outputs": [
    {
     "data": {
      "text/plain": [
       "[45, 86, 43, 83, 69]"
      ]
     },
     "execution_count": 16,
     "metadata": {},
     "output_type": "execute_result"
    }
   ],
   "source": [
    "import random\n",
    "[random.randint(40,100),random.randint(40,100),random.randint(40,100),random.randint(40,100),random.randint(40,100)]"
   ]
  },
  {
   "cell_type": "code",
   "execution_count": 20,
   "metadata": {},
   "outputs": [
    {
     "data": {
      "text/plain": [
       "[97, 100, 40, 76, 88]"
      ]
     },
     "execution_count": 20,
     "metadata": {},
     "output_type": "execute_result"
    }
   ],
   "source": [
    "stu:list[int] = []\n",
    "scores_nums:int = 5\n",
    "for i in range(scores_nums):\n",
    "    stu.append(random.randint(40,100))\n",
    "stu"
   ]
  },
  {
   "cell_type": "code",
   "execution_count": null,
   "metadata": {},
   "outputs": [],
   "source": [
    "student_nums:int = pyip.inputInt(\"請輸入學生的數量(1~50人)：\",min=1,max=50)\n",
    "print(student_nums)\n",
    "scores_nums:int = pyip.inputInt(\"請輸入科目數(1~7)：\",min=1,max=7)\n",
    "print(scores_nums)\n",
    "\n",
    "names:list[str] = random.choices(nameList,k=student_nums)\n",
    "for name in names:\n",
    "    stu:list[int|str] = []\n",
    "    stu.append(name)\n",
    "    for i in range(scores_nums):\n",
    "        stu.append(random.randint(40,100))\n",
    "    print(stu)"
   ]
  },
  {
   "cell_type": "code",
   "execution_count": 29,
   "metadata": {},
   "outputs": [
    {
     "name": "stdout",
     "output_type": "stream",
     "text": [
      "請輸入學生的數量(1~50人)：\n",
      "30人\n",
      "請輸入科目數(1~7)：\n",
      "7人\n"
     ]
    },
    {
     "data": {
      "text/plain": [
       "[['賴心怡', 67, 66, 44, 43, 67, 75, 52],\n",
       " ['賴心怡', 42, 85, 63, 87, 73, 43, 93],\n",
       " ['游治旺', 81, 76, 88, 65, 46, 56, 41],\n",
       " ['馮耀中', 87, 90, 96, 81, 56, 79, 61],\n",
       " ['孫宜珊', 78, 88, 61, 84, 71, 71, 51],\n",
       " ['郭淑真', 92, 57, 80, 90, 50, 62, 40],\n",
       " ['蕭怡伶', 66, 90, 62, 90, 79, 42, 85],\n",
       " ['王筱婷', 77, 46, 55, 49, 70, 73, 74],\n",
       " ['盧必妍', 46, 79, 93, 63, 55, 77, 51],\n",
       " ['楊建安', 73, 63, 95, 66, 62, 63, 76],\n",
       " ['簡美君', 83, 48, 64, 46, 81, 74, 92],\n",
       " ['童建霖', 43, 96, 65, 93, 75, 52, 99],\n",
       " ['黃志福', 81, 67, 95, 88, 90, 56, 76],\n",
       " ['孫火清', 83, 42, 90, 54, 82, 49, 73],\n",
       " ['洪阿惠', 90, 40, 88, 45, 86, 84, 91],\n",
       " ['馮淑芬', 70, 50, 40, 75, 74, 59, 91],\n",
       " ['元延辛', 57, 51, 87, 82, 92, 49, 43],\n",
       " ['林佳慧', 81, 40, 94, 66, 88, 99, 65],\n",
       " ['張莉雯', 48, 74, 54, 42, 40, 74, 55],\n",
       " ['許淑婷', 56, 86, 97, 96, 96, 73, 59],\n",
       " ['金宜芳', 56, 48, 63, 64, 83, 41, 73],\n",
       " ['余宗儒', 66, 80, 81, 77, 50, 95, 49],\n",
       " ['林佳人', 42, 52, 42, 97, 69, 72, 45],\n",
       " ['孫宜珊', 50, 71, 96, 50, 91, 99, 51],\n",
       " ['昌嘉洋', 51, 50, 40, 60, 83, 50, 78],\n",
       " ['黃善迪', 53, 72, 94, 54, 48, 58, 70],\n",
       " ['高士凱', 63, 52, 55, 93, 67, 51, 78],\n",
       " ['程玫靖', 50, 88, 64, 87, 90, 67, 68],\n",
       " ['吳晴洋', 81, 63, 50, 86, 73, 53, 85],\n",
       " ['柯宜臻', 90, 83, 45, 86, 41, 86, 46]]"
      ]
     },
     "execution_count": 29,
     "metadata": {},
     "output_type": "execute_result"
    }
   ],
   "source": [
    "student_nums:int = pyip.inputInt(\"請輸入學生的數量(1~50人)：\",min=1,max=50)\n",
    "print()\n",
    "print(f\"{student_nums}人\")\n",
    "scores_nums:int = pyip.inputInt(\"請輸入科目數(1~7)：\",min=1,max=7)\n",
    "print()\n",
    "print(f\"{scores_nums}人\")\n",
    "\n",
    "students:list[list] = []\n",
    "\n",
    "names:list[str] = random.choices(nameList,k=student_nums)\n",
    "for name in names:\n",
    "    stu:list[int|str] = []\n",
    "    stu.append(name)\n",
    "    for i in range(scores_nums):\n",
    "        stu.append(random.randint(40,100))\n",
    "    students.append(stu)\n",
    "\n",
    "students"
   ]
  }
 ],
 "metadata": {
  "kernelspec": {
   "display_name": "Python 3",
   "language": "python",
   "name": "python3"
  },
  "language_info": {
   "codemirror_mode": {
    "name": "ipython",
    "version": 3
   },
   "file_extension": ".py",
   "mimetype": "text/x-python",
   "name": "python",
   "nbconvert_exporter": "python",
   "pygments_lexer": "ipython3",
   "version": "3.10.13"
  }
 },
 "nbformat": 4,
 "nbformat_minor": 2
}
