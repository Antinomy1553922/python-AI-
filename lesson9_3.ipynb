{
 "cells": [
  {
   "cell_type": "code",
   "execution_count": 33,
   "metadata": {},
   "outputs": [],
   "source": [
    "class Student:\n",
    "    def __init__(self,n,c,e,m):\n",
    "        #attribute(屬性)\n",
    "        #__name：不給修改(不能取出這裡的值)\n",
    "        self.__name = n   #有__代表不可以取出和修改\n",
    "        self.chinese = c  #可取出也可修改的attribute\n",
    "        self.english = e\n",
    "        self.math = m\n",
    "    \n",
    "    #property也叫屬性\n",
    "    #不用括號    \n",
    "    @property\n",
    "    def name(self):\n",
    "        #傳出__name的值\n",
    "        #return 傳出值\n",
    "        return self.__name\n",
    "        \n",
    "        #先有不能修改的attribute，才可以用property\n",
    "\n",
    "    def sum(self):  #實體方法(method)，不能直接使用，一定要用遙控器透過實體(此處是stu1)\n",
    "        return self.chinese + self.english + self.math"
   ]
  },
  {
   "cell_type": "code",
   "execution_count": 34,
   "metadata": {},
   "outputs": [
    {
     "name": "stdout",
     "output_type": "stream",
     "text": [
      "乾男\n",
      "78\n",
      "92\n",
      "65\n",
      "學生總分是235\n"
     ]
    }
   ],
   "source": [
    "stu1 = Student(\"乾男\",78,92,65)\n",
    "print(stu1.name)\n",
    "print(stu1.chinese)\n",
    "print(stu1.english)\n",
    "print(stu1.math)\n",
    "print(f\"學生總分是{stu1.sum()}\")\n"
   ]
  },
  {
   "cell_type": "code",
   "execution_count": 35,
   "metadata": {},
   "outputs": [
    {
     "name": "stdout",
     "output_type": "stream",
     "text": [
      "乾男\n",
      "90\n",
      "90\n",
      "90\n",
      "學生總分是270\n"
     ]
    }
   ],
   "source": [
    "#stu1.name = \"不是乾男\"  #property不可以修改內容\n",
    "stu1.chinese = 90\n",
    "stu1.english = 90\n",
    "stu1.math = 90\n",
    "\n",
    "print(stu1.name)\n",
    "print(stu1.chinese)\n",
    "print(stu1.english)\n",
    "print(stu1.math)\n",
    "print(f\"學生總分是{stu1.sum()}\")"
   ]
  }
 ],
 "metadata": {
  "kernelspec": {
   "display_name": "Python 3",
   "language": "python",
   "name": "python3"
  },
  "language_info": {
   "codemirror_mode": {
    "name": "ipython",
    "version": 3
   },
   "file_extension": ".py",
   "mimetype": "text/x-python",
   "name": "python",
   "nbconvert_exporter": "python",
   "pygments_lexer": "ipython3",
   "version": "3.10.13"
  }
 },
 "nbformat": 4,
 "nbformat_minor": 2
}
