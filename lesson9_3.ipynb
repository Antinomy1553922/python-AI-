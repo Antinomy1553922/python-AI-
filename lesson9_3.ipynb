{
 "cells": [
  {
   "cell_type": "code",
   "execution_count": null,
   "metadata": {},
   "outputs": [],
   "source": [
    "#實體三巨頭：\n",
    "#attribute\n",
    "#property\n",
    "#method"
   ]
  },
  {
   "cell_type": "code",
   "execution_count": 57,
   "metadata": {},
   "outputs": [],
   "source": [
    "class Student:\n",
    "    def __init__(self,n,c,e,m):\n",
    "        #attribute(屬性)\n",
    "        #__name：不給修改(不能取出這裡的值)\n",
    "        self.__name = n   #有__代表不可以取出和修改\n",
    "        self.chinese = c  #可取出也可修改的attribute\n",
    "        self.english = e\n",
    "        self.math = m\n",
    "    \n",
    "    #property也叫屬性\n",
    "    #不用括號    \n",
    "    @property\n",
    "    def name(self):\n",
    "        #傳出__name的值\n",
    "        #return 傳出值\n",
    "        return self.__name\n",
    "        \n",
    "        #先有不能修改的attribute，才可以用property\n",
    "\n",
    "    def sum(self):  #實體方法(method)，不能直接使用，一定要用遙控器透過實體(此處是stu1)\n",
    "        return self.chinese + self.english + self.math\n",
    "    \n",
    "    def average(self): #實體方法(method)\n",
    "        return self.sum() / 3.0\n",
    "    \n",
    "    #def __repr__(self):  #多行文字\n",
    "       # description = f'''\n",
    "#我是Student的實體\n",
    "#Chinese是{self.chinese}\n",
    "#English是{self.english}\n",
    "#Math是{self.math}\n",
    "       # '''\n",
    "        #return description\n",
    "\n",
    "    def __repr__(self):\n",
    "        description = \"\"\n",
    "        description += \"我是Student的實體\\n\"\n",
    "        description += f\"Name是{self.name}\\n\"\n",
    "        description += f\"Chinese是{self.chinese}\\n\"\n",
    "        description += f\"English是{self.english}\\n\"\n",
    "        description += f\"Math是{self.math}\\n\"\n",
    "        return description\n",
    "\n",
    "    #__init__：自訂初始化\n",
    "    #__repr__：自訂輸出"
   ]
  },
  {
   "cell_type": "code",
   "execution_count": 58,
   "metadata": {},
   "outputs": [
    {
     "name": "stdout",
     "output_type": "stream",
     "text": [
      "乾男\n",
      "78\n",
      "92\n",
      "65\n",
      "學生總分是235分\n",
      "學生平均是78.33分\n",
      "我是Student的實體\n",
      "Name是乾男\n",
      "Chinese是78\n",
      "English是92\n",
      "Math是65\n",
      "\n"
     ]
    }
   ],
   "source": [
    "stu1 = Student(\"乾男\",78,92,65)\n",
    "print(stu1.name)\n",
    "print(stu1.chinese)\n",
    "print(stu1.english)\n",
    "print(stu1.math)\n",
    "print(f\"學生總分是{stu1.sum()}分\")\n",
    "print(f\"學生平均是{stu1.average():.2f}分\")\n",
    "print(stu1)"
   ]
  },
  {
   "cell_type": "code",
   "execution_count": 59,
   "metadata": {},
   "outputs": [
    {
     "name": "stdout",
     "output_type": "stream",
     "text": [
      "我是Student的實體\n",
      "Name是五飛\n",
      "Chinese是95\n",
      "English是95\n",
      "Math是95\n",
      "\n",
      "學生總分是235分\n",
      "學生平均是78.33分\n"
     ]
    }
   ],
   "source": [
    "stu2 = Student(\"五飛\",95,95,95)\n",
    "print(stu2)\n",
    "print(f\"學生總分是{stu1.sum()}分\")\n",
    "print(f\"學生平均是{stu1.average():.2f}分\")"
   ]
  }
 ],
 "metadata": {
  "kernelspec": {
   "display_name": "Python 3",
   "language": "python",
   "name": "python3"
  },
  "language_info": {
   "codemirror_mode": {
    "name": "ipython",
    "version": 3
   },
   "file_extension": ".py",
   "mimetype": "text/x-python",
   "name": "python",
   "nbconvert_exporter": "python",
   "pygments_lexer": "ipython3",
   "version": "3.10.13"
  }
 },
 "nbformat": 4,
 "nbformat_minor": 2
}
