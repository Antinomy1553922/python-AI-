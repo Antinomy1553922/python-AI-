{
 "cells": [
  {
   "cell_type": "code",
   "execution_count": null,
   "metadata": {},
   "outputs": [],
   "source": [
    "while(True):\n",
    "    value = input(\"請輸入整數,輸入[q],[Q],[Quit],[QUIT]離開:\")\n",
    "    if value == 'q'or value == 'Q'or value=='quit' or value=='Quit' or value=='QUIT' :\n",
    "        break\n",
    "    try:\n",
    "        valueInt = int(value)\n",
    "    except:\n",
    "        print(f\"{value}格式錯誤\") \n",
    "        continue\n",
    "    if valueInt % 2 == 1:\n",
    "        print(f\"{valueInt}的平方是{valueInt ** 2}\")\n",
    "    else:\n",
    "        print(\"不做事\")\n",
    "\n",
    "print(\"應用程式結束\")"
   ]
  },
  {
   "cell_type": "code",
   "execution_count": 10,
   "metadata": {},
   "outputs": [
    {
     "name": "stdout",
     "output_type": "stream",
     "text": [
      "5的平方是:25\n",
      "3的平方是:9\n",
      "5的平方是:25\n",
      "不做任何事\n",
      "a格式錯誤\n",
      "程式結束\n"
     ]
    }
   ],
   "source": [
    "while(True):\n",
    "    a=input(\"請輸入整數，輸入'q','Q','quit','Quit','QUIT'離開:\")\n",
    "    if(a==\"q\" or a==\"Q\" or a==\"quit\" or a==\"Quit\" or a==\"QUIT\"):\n",
    "        break\n",
    "\n",
    "    try:\n",
    "        a=int(a)\n",
    "    except:\n",
    "        print(f\"{a}格式錯誤\")\n",
    "        continue\n",
    "    \n",
    "    if(a%2==1):\n",
    "        print(f\"{a}的平方是:{a**2}\")\n",
    "    else:\n",
    "        print(\"不做任何事\")\n",
    "\n",
    "print(\"程式結束\")"
   ]
  },
  {
   "cell_type": "code",
   "execution_count": 11,
   "metadata": {},
   "outputs": [],
   "source": [
    "import math\n",
    "#一個參數，有傳出值\n",
    "def cricle_area(radius):\n",
    "    area = radius ** 2 * math.pi\n",
    "    return area\n",
    "\n",
    "#引數值：是真正的值\n"
   ]
  },
  {
   "cell_type": "code",
   "execution_count": 15,
   "metadata": {},
   "outputs": [
    {
     "name": "stdout",
     "output_type": "stream",
     "text": [
      "請輸入半徑：10.0\n",
      "輸入半徑為「10.0」，得出園面積為「314.1592653589793」\n"
     ]
    }
   ],
   "source": [
    "import pyinputplus as pyip\n",
    "radius = pyip.inputFloat(\"請輸入半徑：\")\n",
    "print(radius)\n",
    "area = cricle_area(radius)\n",
    "print(f\"輸入半徑為「{radius}」，得出園面積為「{area}」\")\n",
    "\n",
    "#這裡的radius：引數值\n",
    "#傳回上方參數，應用在程式區塊\n"
   ]
  }
 ],
 "metadata": {
  "kernelspec": {
   "display_name": "Python 3",
   "language": "python",
   "name": "python3"
  },
  "language_info": {
   "codemirror_mode": {
    "name": "ipython",
    "version": 3
   },
   "file_extension": ".py",
   "mimetype": "text/x-python",
   "name": "python",
   "nbconvert_exporter": "python",
   "pygments_lexer": "ipython3",
   "version": "3.10.13"
  }
 },
 "nbformat": 4,
 "nbformat_minor": 2
}
