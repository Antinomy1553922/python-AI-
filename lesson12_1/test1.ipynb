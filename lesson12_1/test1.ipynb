{
 "cells": [
  {
   "cell_type": "code",
   "execution_count": 1,
   "metadata": {},
   "outputs": [],
   "source": [
    "stu1 = {\n",
    "    \"姓名\":\"陳怡伶\",\n",
    "    \"國文\":89,\n",
    "    \"英文\":92,\n",
    "    \"數學\":83,\n",
    "    \"地理\":91,\n",
    "    \"歷史\":65,\n",
    "    }\n",
    "\n",
    "stu2 = {\n",
    "    \"姓名\":\"馮芳如\",\n",
    "    \"國文\":82,\n",
    "    \"英文\":75,\n",
    "    \"數學\":92,\n",
    "    \"地理\":89,\n",
    "    \"歷史\":77,\n",
    "}"
   ]
  },
  {
   "cell_type": "code",
   "execution_count": 2,
   "metadata": {},
   "outputs": [
    {
     "data": {
      "text/plain": [
       "[{'姓名': '陳怡伶', '國文': 89, '英文': 92, '數學': 83, '地理': 91, '歷史': 65},\n",
       " {'姓名': '馮芳如', '國文': 82, '英文': 75, '數學': 92, '地理': 89, '歷史': 77}]"
      ]
     },
     "execution_count": 2,
     "metadata": {},
     "output_type": "execute_result"
    }
   ],
   "source": [
    "students = [stu1,stu2]\n",
    "students"
   ]
  },
  {
   "cell_type": "code",
   "execution_count": 25,
   "metadata": {},
   "outputs": [
    {
     "data": {
      "text/plain": [
       "[{'姓名': '林建勳', '國文': 81, '英文': 57, '數學': 71, '地理': 89, '歷史': 51},\n",
       " {'姓名': '翁鈺婷', '國文': 90, '英文': 90, '數學': 45, '地理': 82, '歷史': 89},\n",
       " {'姓名': '陳筱涵', '國文': 50, '英文': 52, '數學': 98, '地理': 55, '歷史': 48},\n",
       " {'姓名': '張牧聿', '國文': 60, '英文': 54, '數學': 97, '地理': 84, '歷史': 53},\n",
       " {'姓名': '劉雯芬', '國文': 61, '英文': 56, '數學': 59, '地理': 98, '歷史': 87},\n",
       " {'姓名': '劉耿琦', '國文': 85, '英文': 70, '數學': 46, '地理': 94, '歷史': 76},\n",
       " {'姓名': '林詠斌', '國文': 76, '英文': 82, '數學': 45, '地理': 98, '歷史': 73},\n",
       " {'姓名': '陳冠竹', '國文': 97, '英文': 74, '數學': 47, '地理': 61, '歷史': 98},\n",
       " {'姓名': '李蓉瑞', '國文': 53, '英文': 69, '數學': 51, '地理': 67, '歷史': 92},\n",
       " {'姓名': '吳柏誠', '國文': 91, '英文': 48, '數學': 66, '地理': 91, '歷史': 89}]"
      ]
     },
     "execution_count": 25,
     "metadata": {},
     "output_type": "execute_result"
    }
   ],
   "source": [
    "from random import randint,choices\n",
    "\n",
    "def getStudents(nums:int) -> list[dict]:\n",
    "    students:list[dict] = []\n",
    "    with open(\"names.txt\",mode='r',encoding='utf-8') as file:\n",
    "        names:str = file.read()\n",
    "    nameList:list[str] = names.split('\\n')\n",
    "    names:list[str] = choices(nameList, k=nums)\n",
    "\n",
    "    for i in range(nums):\n",
    "        stu = {\n",
    "        \"姓名\":names[i],\n",
    "        \"國文\":randint(45,100),\n",
    "        \"英文\":randint(45,100),\n",
    "        \"數學\":randint(45,100),\n",
    "        \"地理\":randint(45,100),\n",
    "        \"歷史\":randint(45,100),\n",
    "         }\n",
    "        students.append(stu)\n",
    "\n",
    "    return students\n",
    "\n",
    "students = getStudents(10)\n",
    "students\n"
   ]
  },
  {
   "cell_type": "code",
   "execution_count": 26,
   "metadata": {},
   "outputs": [
    {
     "name": "stdout",
     "output_type": "stream",
     "text": [
      "請輸入學生的數量(1~50人)：5\n"
     ]
    },
    {
     "data": {
      "text/plain": [
       "[{'姓名': '劉雯芬', '國文': 89, '英文': 99, '數學': 73, '地理': 65, '歷史': 72},\n",
       " {'姓名': '胡芳瑜', '國文': 78, '英文': 76, '數學': 47, '地理': 50, '歷史': 73},\n",
       " {'姓名': '黃健發', '國文': 49, '英文': 53, '數學': 73, '地理': 58, '歷史': 90},\n",
       " {'姓名': '蕭淑華', '國文': 93, '英文': 56, '數學': 66, '地理': 86, '歷史': 73},\n",
       " {'姓名': '龔姵君', '國文': 96, '英文': 87, '數學': 70, '地理': 91, '歷史': 49}]"
      ]
     },
     "execution_count": 26,
     "metadata": {},
     "output_type": "execute_result"
    }
   ],
   "source": [
    "import pyinputplus as pyip\n",
    "s_nums:int = pyip.inputInt(\"請輸入學生的數量(1~50人)：\",min=1,max=50)\n",
    "print(s_nums)\n",
    "students = getStudents(s_nums)\n",
    "students"
   ]
  },
  {
   "cell_type": "code",
   "execution_count": 33,
   "metadata": {},
   "outputs": [
    {
     "name": "stdout",
     "output_type": "stream",
     "text": [
      "寫入成功\n"
     ]
    }
   ],
   "source": [
    "import csv\n",
    "from csv import DictWriter\n",
    "\n",
    "def save_to_csv(students:list[dict],fileName:str)->None:\n",
    "    fileNames:str = fileName + \".csv\"\n",
    "    with open(fileNames,mode=\"w\",encoding=\"utf-8\",newline='') as file:\n",
    "        fieldnames:list[int] = [\"姓名\",\"國文\",\"英文\",\"數學\",\"地理\",\"歷史\"]\n",
    "        writer:DictWriter = csv.DictWriter(file,fieldnames=fieldnames)\n",
    "        writer.writeheader()\n",
    "        writer.writerows(students)\n",
    "    print(\"寫入成功\")\n",
    "\n",
    "save_to_csv(students,\"class2\")"
   ]
  },
  {
   "cell_type": "code",
   "execution_count": null,
   "metadata": {},
   "outputs": [],
   "source": []
  }
 ],
 "metadata": {
  "kernelspec": {
   "display_name": "Python 3",
   "language": "python",
   "name": "python3"
  },
  "language_info": {
   "codemirror_mode": {
    "name": "ipython",
    "version": 3
   },
   "file_extension": ".py",
   "mimetype": "text/x-python",
   "name": "python",
   "nbconvert_exporter": "python",
   "pygments_lexer": "ipython3",
   "version": "3.10.13"
  }
 },
 "nbformat": 4,
 "nbformat_minor": 2
}
