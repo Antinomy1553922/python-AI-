{
 "cells": [
  {
   "cell_type": "code",
   "execution_count": null,
   "metadata": {},
   "outputs": [],
   "source": [
    "#作業1\n",
    "#00(含)~59：D\n",
    "#60(含)~69：C\n",
    "#70(含)~79：B\n",
    "#80(含)~89：A\n",
    "#90(含)~100：S\n",
    "\n",
    "import pyinputplus as pyip\n",
    "\n",
    "scores = pyip.inputInt(\"請輸入學生分數：(0~100)\",max=100,min=0)\n",
    "print(scores)\n",
    "#多項選擇\n",
    "if scores >= 90:\n",
    "    print(\"S\")\n",
    "elif scores >= 80:\n",
    "    print(\"A\")\n",
    "elif scores >= 70:\n",
    "    print(\"B\")\n",
    "elif scores >= 60:\n",
    "    print(\"C\")\n",
    "else:\n",
    "    print(\"D\")"
   ]
  },
  {
   "cell_type": "code",
   "execution_count": 7,
   "metadata": {},
   "outputs": [
    {
     "name": "stdout",
     "output_type": "stream",
     "text": [
      "請輸入購買金額：100\n",
      "實付金額是:95.0\n"
     ]
    }
   ],
   "source": [
    "#作業2\n",
    "#https://github.com/roberthsu2003/__2023_11_14_2_4__/issues/2\n",
    "\n",
    "import pyinputplus as pyip\n",
    "\n",
    "money = pyip.inputInt(\"請輸入購買金額：\")\n",
    "print(money)\n",
    "\n",
    "if money >= 100000:\n",
    "    money = money * 0.8\n",
    "elif money >= 50000:\n",
    "    money = money * 0.85\n",
    "elif money >= 30000:\n",
    "    money = money * 0.9\n",
    "else:\n",
    "    money = money * 0.95\n",
    "print(f\"實付金額是:{money:.1f}\")\n"
   ]
  },
  {
   "cell_type": "code",
   "execution_count": null,
   "metadata": {},
   "outputs": [],
   "source": []
  },
  {
   "cell_type": "code",
   "execution_count": null,
   "metadata": {},
   "outputs": [],
   "source": []
  }
 ],
 "metadata": {
  "kernelspec": {
   "display_name": "Python 3",
   "language": "python",
   "name": "python3"
  },
  "language_info": {
   "codemirror_mode": {
    "name": "ipython",
    "version": 3
   },
   "file_extension": ".py",
   "mimetype": "text/x-python",
   "name": "python",
   "nbconvert_exporter": "python",
   "pygments_lexer": "ipython3",
   "version": "3.10.13"
  }
 },
 "nbformat": 4,
 "nbformat_minor": 2
}
