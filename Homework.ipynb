{
 "cells": [
  {
   "cell_type": "code",
   "execution_count": null,
   "metadata": {},
   "outputs": [],
   "source": [
    "#作業1\n",
    "#00(含)~59：D\n",
    "#60(含)~69：C\n",
    "#70(含)~79：B\n",
    "#80(含)~89：A\n",
    "#90(含)~100：S\n",
    "\n",
    "import pyinputplus as pyip\n",
    "\n",
    "scores = pyip.inputInt(\"請輸入學生分數：(0~100)\",max=100,min=0)\n",
    "print(scores)\n",
    "#多項選擇\n",
    "if scores >= 90:\n",
    "    print(\"S\")\n",
    "elif scores >= 80:\n",
    "    print(\"A\")\n",
    "elif scores >= 70:\n",
    "    print(\"B\")\n",
    "elif scores >= 60:\n",
    "    print(\"C\")\n",
    "else:\n",
    "    print(\"D\")"
   ]
  },
  {
   "cell_type": "code",
   "execution_count": 1,
   "metadata": {},
   "outputs": [
    {
     "name": "stdout",
     "output_type": "stream",
     "text": [
      "請輸入購買金額："
     ]
    },
    {
     "name": "stdout",
     "output_type": "stream",
     "text": [
      "130000\n",
      "實付金額是:104000.0\n"
     ]
    }
   ],
   "source": [
    "#作業2\n",
    "#https://github.com/roberthsu2003/__2023_11_14_2_4__/issues/2\n",
    "\n",
    "import pyinputplus as pyip\n",
    "\n",
    "money = pyip.inputInt(\"請輸入購買金額：\")\n",
    "print(money)\n",
    "\n",
    "if money >= 100000:\n",
    "    money = money * 0.8\n",
    "elif money >= 50000:\n",
    "    money = money * 0.85\n",
    "elif money >= 30000:\n",
    "    money = money * 0.9\n",
    "else:\n",
    "    money = money * 0.95\n",
    "print(f\"實付金額是:{money:.1f}\")\n"
   ]
  },
  {
   "cell_type": "code",
   "execution_count": 11,
   "metadata": {},
   "outputs": [
    {
     "name": "stdout",
     "output_type": "stream",
     "text": [
      "請輸入身高，單位公分：\n",
      "177\n",
      "請輸入體重，單位公斤：\n",
      "80\n",
      "你的BMI為\n",
      "25.53544639152223\n",
      "BMI一共25.53545\n",
      "你有點太重了，需要控制一下！(體重過重)\n"
     ]
    }
   ],
   "source": [
    "#作業2-1\n",
    "\n",
    "import pyinputplus as pyip\n",
    "\n",
    "height = pyip.inputInt(f\"請輸入身高，單位公分：\\n\")\n",
    "print(height)\n",
    "weight = pyip.inputInt(f\"請輸入體重，單位公斤：\\n\")\n",
    "print(weight)\n",
    "\n",
    "bmi = weight / (height*0.01) ** 2\n",
    "print(f\"你的BMI為\\n{bmi}\")\n",
    "\n",
    "if bmi < 18.5:\n",
    "    print(f\"BMI一共{bmi:.5f}\\n你太輕了！多吃一點！(體重過輕)\")\n",
    "elif bmi < 24:\n",
    "    print(f\"BMI一共{bmi:.5f}\\n恭喜你！你是個正常人！(體重正常)\")\n",
    "elif bmi < 27:\n",
    "    print(f\"BMI一共{bmi:.5f}\\n你有點太重了，需要控制一下！(體重過重)\")\n",
    "elif bmi < 30:\n",
    "    print(f\"BMI一共{bmi:.5f}\\n小心！你已經開始肥胖了！\")\n",
    "elif bmi < 35:\n",
    "    print(f\"BMI一共{bmi:.5f}\\n你真的有點胖了啦，注意一下生活或作息！\")\n",
    "else:\n",
    "    print(f\"BMI一共{bmi:.5f}\\n不要吃太胖喔，會被殺掉的！\")\n"
   ]
  },
  {
   "cell_type": "code",
   "execution_count": 13,
   "metadata": {},
   "outputs": [
    {
     "name": "stdout",
     "output_type": "stream",
     "text": [
      "請輸入整數，求所有因數和20\n",
      "20的因數有：\n",
      "1\n",
      "2\n",
      "4\n",
      "5\n",
      "10\n",
      "20\n"
     ]
    }
   ],
   "source": [
    "#作業2-2\n",
    "\n",
    "import pyinputplus as pyip\n",
    "\n",
    "num = pyip.inputInt(\"請輸入整數，求所有因數和\",min = 0)\n",
    "print(num)\n",
    "print(f\"{num}的因數有：\")\n",
    "for i in range(1,num+1):\n",
    "    if num % i == 0:\n",
    "        print(f\"{i}\")\n"
   ]
  },
  {
   "cell_type": "code",
   "execution_count": null,
   "metadata": {},
   "outputs": [],
   "source": [
    "#continue：跳回上方再次執行\n",
    "#break：直接跳出迴圈\n",
    "\n",
    "#顯示：\n",
    "#奇數輸出平方\n",
    "#偶數不做任何動作\n",
    "#\"q\"要離開\n",
    "\n",
    "#優雅的錯誤：try & except (feat.5-2)\n",
    "\n",
    "while(True):\n",
    "    value = input(\"請輸入整數(輸入「q」則中止程式)\")\n",
    "    if value == 'q':\n",
    "        break\n",
    "\n",
    "    try:\n",
    "        valueInt = int(value) #強制轉換value成int\n",
    "    except:\n",
    "        print(f\"你打這{value}但這格式不對啊\")\n",
    "        continue #跳回上面(True)重複執行\n",
    "\n",
    "    if valueInt % 2 == 1:\n",
    "        print(f\"{valueInt}的平方是{valueInt ** 2}\")\n",
    "    else:\n",
    "        print(\"窩不知道\")\n",
    "\n",
    "print(\"有內鬼，終止交易\")"
   ]
  },
  {
   "cell_type": "code",
   "execution_count": 15,
   "metadata": {},
   "outputs": [
    {
     "name": "stdout",
     "output_type": "stream",
     "text": [
      "應用程式結束\n"
     ]
    }
   ],
   "source": [
    "#作業3\n",
    "#將以下程式改為：輸入'q','Q','quit','Quit','QUIT'都可以離開程式\n",
    "\n",
    "#顯示:\n",
    "#奇數輸出平方\n",
    "#偶數不做任何動作\n",
    "#'q'要離開\n",
    "\n",
    "list = ['q','Q','quit','Quit','QUIT']\n",
    "while(True):\n",
    "    value = input(\"請輸入整數,輸入'q','Q','quit','Quit','QUIT'離開:\")\n",
    "    if value in list:\n",
    "        break\n",
    "    \n",
    "    try:\n",
    "        valueInt = int(value)\n",
    "    except:\n",
    "        print(f\"{value}格式錯誤\")\n",
    "        continue\n",
    "    \n",
    "    if valueInt % 2 == 1:\n",
    "        print(f\"{valueInt}的平方是{valueInt ** 2}\")\n",
    "    else:\n",
    "        print(\"不做事\")\n",
    "\n",
    "print(\"應用程式結束\")"
   ]
  },
  {
   "cell_type": "code",
   "execution_count": 2,
   "metadata": {},
   "outputs": [
    {
     "name": "stdout",
     "output_type": "stream",
     "text": [
      "請輸入身高，單位為公分:170.0\n",
      "請輸入體重，單位為公斤:48.0\n",
      "您的BMI是16.61,「您的體重過輕」\n",
      "請問還要繼續嗎？(y,n)結束計算\n",
      "\n"
     ]
    }
   ],
   "source": [
    "#作業4\n",
    "#請將以下程式改為\n",
    "#還要繼續嗎?(y,n):\n",
    "#按y,繼續計算,按n,結束計算\n",
    "\n",
    "import pyinputplus as pyip\n",
    "\n",
    "def getBMI(height:float, weight:float) -> tuple[float,str]:\n",
    "    BMI = weight / (height*0.01)**2\n",
    "    message = \"\"\n",
    "    if BMI < 18.5:\n",
    "        message = \"「您的體重過輕」\"\n",
    "    elif BMI < 24:        \n",
    "        message = \"「您的體重正常」\"\n",
    "    \n",
    "    elif BMI < 27:        \n",
    "        message = \"「您的體重過重」\"\n",
    "\n",
    "    elif BMI < 30:        \n",
    "        message = \"「您的體重輕度肥胖」\"\n",
    "\n",
    "    elif BMI < 35:        \n",
    "        message = \"「您的體重中度肥胖」\"\n",
    "\n",
    "    else:        \n",
    "        message = \"「您的體重重度肥胖」\"\n",
    "\n",
    "    return (BMI,message)\n",
    "\n",
    "    \n",
    "\n",
    "while(True):\n",
    "    h = pyip.inputFloat(\"請輸入身高，單位為公分:\",min = 0)\n",
    "    print(h)\n",
    "    w = pyip.inputFloat(\"請輸入體重，單位為公斤:\",min = 0)\n",
    "    print(w)\n",
    "    bmi, message = getBMI(height=h,weight=w)\n",
    "    print(f\"您的BMI是{bmi:.2f},{message}\")\n",
    "\n",
    "    check = pyip.inputYesNo(\"請問還要繼續嗎？(y,n)\")\n",
    "    if check == \"no\":\n",
    "        break\n",
    "\n",
    "print(\"結束計算\")"
   ]
  },
  {
   "cell_type": "code",
   "execution_count": null,
   "metadata": {},
   "outputs": [],
   "source": [
    "#作業5"
   ]
  }
 ],
 "metadata": {
  "kernelspec": {
   "display_name": "Python 3",
   "language": "python",
   "name": "python3"
  },
  "language_info": {
   "codemirror_mode": {
    "name": "ipython",
    "version": 3
   },
   "file_extension": ".py",
   "mimetype": "text/x-python",
   "name": "python",
   "nbconvert_exporter": "python",
   "pygments_lexer": "ipython3",
   "version": "3.10.13"
  }
 },
 "nbformat": 4,
 "nbformat_minor": 2
}
