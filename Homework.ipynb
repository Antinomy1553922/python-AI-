{
 "cells": [
  {
   "cell_type": "code",
   "execution_count": null,
   "metadata": {},
   "outputs": [],
   "source": [
    "#作業1\n",
    "#00(含)~59：D\n",
    "#60(含)~69：C\n",
    "#70(含)~79：B\n",
    "#80(含)~89：A\n",
    "#90(含)~100：S\n",
    "\n",
    "import pyinputplus as pyip\n",
    "\n",
    "scores = pyip.inputInt(\"請輸入學生分數：(0~100)\",max=100,min=0)\n",
    "print(scores)\n",
    "#多項選擇\n",
    "if scores >= 90:\n",
    "    print(\"S\")\n",
    "elif scores >= 80:\n",
    "    print(\"A\")\n",
    "elif scores >= 70:\n",
    "    print(\"B\")\n",
    "elif scores >= 60:\n",
    "    print(\"C\")\n",
    "else:\n",
    "    print(\"D\")"
   ]
  },
  {
   "cell_type": "code",
   "execution_count": 1,
   "metadata": {},
   "outputs": [
    {
     "name": "stdout",
     "output_type": "stream",
     "text": [
      "請輸入購買金額："
     ]
    },
    {
     "name": "stdout",
     "output_type": "stream",
     "text": [
      "130000\n",
      "實付金額是:104000.0\n"
     ]
    }
   ],
   "source": [
    "#作業2\n",
    "#https://github.com/roberthsu2003/__2023_11_14_2_4__/issues/2\n",
    "\n",
    "import pyinputplus as pyip\n",
    "\n",
    "money = pyip.inputInt(\"請輸入購買金額：\")\n",
    "print(money)\n",
    "\n",
    "if money >= 100000:\n",
    "    money = money * 0.8\n",
    "elif money >= 50000:\n",
    "    money = money * 0.85\n",
    "elif money >= 30000:\n",
    "    money = money * 0.9\n",
    "else:\n",
    "    money = money * 0.95\n",
    "print(f\"實付金額是:{money:.1f}\")\n"
   ]
  },
  {
   "cell_type": "code",
   "execution_count": null,
   "metadata": {},
   "outputs": [],
   "source": []
  },
  {
   "cell_type": "code",
   "execution_count": null,
   "metadata": {},
   "outputs": [],
   "source": [
    "#continue：跳回上方再次執行\n",
    "#break：直接跳出迴圈\n",
    "\n",
    "#顯示：\n",
    "#奇數輸出平方\n",
    "#偶數不做任何動作\n",
    "#\"q\"要離開\n",
    "\n",
    "#優雅的錯誤：try & except (feat.5-2)\n",
    "\n",
    "while(True):\n",
    "    value = input(\"請輸入整數(輸入「q」則中止程式)\")\n",
    "    if value == 'q':\n",
    "        break\n",
    "\n",
    "    try:\n",
    "        valueInt = int(value) #強制轉換value成int\n",
    "    except:\n",
    "        print(f\"你打這{value}但這格式不對啊\")\n",
    "        continue #跳回上面(True)重複執行\n",
    "\n",
    "    if valueInt % 2 == 1:\n",
    "        print(f\"{valueInt}的平方是{valueInt ** 2}\")\n",
    "    else:\n",
    "        print(\"窩不知道\")\n",
    "\n",
    "print(\"有內鬼，終止交易\")"
   ]
  }
 ],
 "metadata": {
  "kernelspec": {
   "display_name": "Python 3",
   "language": "python",
   "name": "python3"
  },
  "language_info": {
   "codemirror_mode": {
    "name": "ipython",
    "version": 3
   },
   "file_extension": ".py",
   "mimetype": "text/x-python",
   "name": "python",
   "nbconvert_exporter": "python",
   "pygments_lexer": "ipython3",
   "version": "3.10.13"
  }
 },
 "nbformat": 4,
 "nbformat_minor": 2
}
