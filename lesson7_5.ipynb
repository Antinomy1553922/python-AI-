{
 "cells": [
  {
   "cell_type": "code",
   "execution_count": 6,
   "metadata": {},
   "outputs": [
    {
     "name": "stdout",
     "output_type": "stream",
     "text": [
      "女王杯其他馬：\n",
      "自由島太強了\n",
      "而且自由島還沒有使出全力的樣子\n",
      "對方就算沒有川田也會贏\n",
      "我甚至覺得有點對不起她\n",
      "我沒能在這場比賽中展現我的全部給自由島\n",
      "擊敗我的不是天氣或騎手\n",
      "而是比我更強的傢伙\n",
      "真是太好了\n",
      "\n",
      "====================\n",
      "\n",
      "春秋分太強了\n",
      "而且春秋分還沒有使出全力的樣子\n",
      "對方就算沒有老李也會贏\n",
      "我甚至覺得有點對不起他\n",
      "我沒能在這場比賽中展現我的全部給春秋分\n",
      "擊敗我的不是天氣或騎手\n",
      "而是比我更強的傢伙\n",
      "真是太好了\n",
      "\n",
      "====================\n",
      "\n",
      "春秋分自由島配種時：\n",
      "自由島太色了\n",
      "而且自由島還沒有使出全力的樣子\n",
      "對方就算沒有催情馬也會贏\n",
      "我甚至覺得有點對不起她\n",
      "我沒能在這場配種中展現我的全部給自由島\n",
      "擊敗我的不是藥物或發情期\n",
      "而是比我更強的傢伙\n",
      "真是太好了\n"
     ]
    }
   ],
   "source": [
    "#沒有參數，沒有傳出值\n",
    "\n",
    "#定義完function後，要呼叫function才會執行\n",
    "\n",
    "def ribaidoirado_tsuyosugiru():\n",
    "    print(\"女王杯其他馬：\\n自由島太強了\\n而且自由島還沒有使出全力的樣子\\n對方就算沒有川田也會贏\\n我甚至覺得有點對不起她\\n我沒能在這場比賽中展現我的全部給自由島\\n擊敗我的不是天氣或騎手\\n而是比我更強的傢伙\\n真是太好了\")\n",
    "\n",
    "def ikuinokkusu_tsuyosugiru():\n",
    "    print(\"春秋分太強了\\n而且春秋分還沒有使出全力的樣子\\n對方就算沒有老李也會贏\\n我甚至覺得有點對不起他\\n我沒能在這場比賽中展現我的全部給春秋分\\n擊敗我的不是天氣或騎手\\n而是比我更強的傢伙\\n真是太好了\")\n",
    "\n",
    "def erouma():\n",
    "    print(\"春秋分自由島配種時：\\n自由島太色了\\n而且自由島還沒有使出全力的樣子\\n對方就算沒有催情馬也會贏\\n我甚至覺得有點對不起她\\n我沒能在這場配種中展現我的全部給自由島\\n擊敗我的不是藥物或發情期\\n而是比我更強的傢伙\\n真是太好了\")\n",
    "\n",
    "#function可以重複呼叫\n",
    "ribaidoirado_tsuyosugiru()\n",
    "print()\n",
    "print(\"====================\")\n",
    "print()\n",
    "ikuinokkusu_tsuyosugiru()\n",
    "print()\n",
    "print(\"====================\")\n",
    "print()\n",
    "erouma()\n"
   ]
  },
  {
   "cell_type": "code",
   "execution_count": 25,
   "metadata": {},
   "outputs": [
    {
     "name": "stdout",
     "output_type": "stream",
     "text": [
      "35\n",
      "================猜數字遊戲================\n",
      "猜數字範圍1~100：35\n",
      "今天的你歐氣滿滿，答案是:35！\n",
      "你嘗試了1次\n",
      "挑戰者啊，你還想要繼續嗎？(y,n)'35' is not a valid yes/no response.\n",
      "挑戰者啊，你還想要繼續嗎？(y,n)凡夫：沒能讓python大人使出全力真是抱歉\n"
     ]
    }
   ],
   "source": [
    "#function 代表功能\n",
    "#可以讓邏輯思考變簡單\n",
    "\n",
    "import pyinputplus as pyip\n",
    "import random\n",
    "\n",
    "def playgame():\n",
    "    min = 1\n",
    "    max = 100\n",
    "    count = 0\n",
    "    random_number = random.randint(min,max) #包含max\n",
    "    print(random_number)\n",
    "    print(\"================猜數字遊戲================\")\n",
    "    while(True):\n",
    "        keyin = pyip.inputInt(f\"猜數字範圍{min}~{max}：\")\n",
    "        count += 1\n",
    "        print(keyin)\n",
    "        if keyin == random_number:\n",
    "            print(f\"今天的你歐氣滿滿，答案是:{random_number}！\")\n",
    "            print(f\"你嘗試了{count}次\")\n",
    "            break\n",
    "        elif keyin > random_number:\n",
    "            print(\"再縮小一點！\")\n",
    "            max = keyin -1\n",
    "        elif keyin < random_number:\n",
    "            print(\"再放大一點！\")\n",
    "            min = keyin +1\n",
    "        print(f\"你嘗試了{count}次\")\n",
    "        print(\"======================\")\n",
    "\n",
    "while(True):\n",
    "    playgame()\n",
    "    is_continue = pyip.inputYesNo(\"挑戰者啊，你還想要繼續嗎？(y,n)\")\n",
    "    if is_continue != \"yes\": #== \"no\"\n",
    "        break\n",
    "print(\"沒能讓python大人使出全力真是抱歉\")"
   ]
  }
 ],
 "metadata": {
  "kernelspec": {
   "display_name": "Python 3",
   "language": "python",
   "name": "python3"
  },
  "language_info": {
   "codemirror_mode": {
    "name": "ipython",
    "version": 3
   },
   "file_extension": ".py",
   "mimetype": "text/x-python",
   "name": "python",
   "nbconvert_exporter": "python",
   "pygments_lexer": "ipython3",
   "version": "3.10.13"
  }
 },
 "nbformat": 4,
 "nbformat_minor": 2
}
