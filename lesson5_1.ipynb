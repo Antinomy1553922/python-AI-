{
 "cells": [
  {
   "cell_type": "code",
   "execution_count": 8,
   "metadata": {},
   "outputs": [
    {
     "ename": "SyntaxError",
     "evalue": "invalid decimal literal (<string>, line 1)",
     "output_type": "error",
     "traceback": [
      "Traceback \u001b[0;36m(most recent call last)\u001b[0m:\n",
      "\u001b[0m  File \u001b[1;32m~/.local/lib/python3.10/site-packages/IPython/core/interactiveshell.py:3548\u001b[0m in \u001b[1;35mrun_code\u001b[0m\n    exec(code_obj, self.user_global_ns, self.user_ns)\u001b[0m\n",
      "\u001b[0;36m  Cell \u001b[0;32mIn[8], line 1\u001b[0;36m\n\u001b[0;31m    money = eval(input(\"請輸入金額：\"))\u001b[0;36m\n",
      "\u001b[0;36m  File \u001b[0;32m<string>:1\u001b[0;36m\u001b[0m\n\u001b[0;31m    25a\u001b[0m\n\u001b[0m     ^\u001b[0m\n\u001b[0;31mSyntaxError\u001b[0m\u001b[0;31m:\u001b[0m invalid decimal literal\n"
     ]
    }
   ],
   "source": [
    "money = eval(input(\"請輸入金額：\"))\n",
    "print(money)\n",
    "\n",
    "#SyntaxError:格式不對\n",
    "#ValueError:"
   ]
  },
  {
   "cell_type": "code",
   "execution_count": 13,
   "metadata": {},
   "outputs": [
    {
     "name": "stdout",
     "output_type": "stream",
     "text": [
      "窩不知道 窩不知道\n",
      "遊戲結束\n"
     ]
    }
   ],
   "source": [
    "#try except else\n",
    "#except可以有很多個\n",
    "#else只能有一個\n",
    "#三個except一定會執行其中一個\n",
    "#如果都沒有錯誤就會執行else\n",
    "\n",
    "try:\n",
    "    money = int(input(\"請輸入金額\"))\n",
    "    f1 = eval(input(\"請輸入浮點數\"))  \n",
    "except SyntaxError:\n",
    "    print(\"我在問你究竟是在說些什麼\")\n",
    "except ValueError:\n",
    "    print(\"你這錢不對啊\")\n",
    "except:\n",
    "    print(\"窩不知道 窩不知道\")\n",
    "\n",
    "print(\"遊戲結束\")"
   ]
  },
  {
   "cell_type": "code",
   "execution_count": 25,
   "metadata": {},
   "outputs": [
    {
     "name": "stdout",
     "output_type": "stream",
     "text": [
      "15\n",
      "3.0\n",
      "遊戲結束\n"
     ]
    }
   ],
   "source": [
    "#try except else\n",
    "#except可以有很多個\n",
    "#else只能有一個\n",
    "#三個except一定會執行其中一個\n",
    "#如果都沒有錯誤就會執行else\n",
    "\n",
    "try:\n",
    "    money = int(input(\"請輸入金額\"))\n",
    "    f1 = eval(input(\"請輸入浮點數\"))  \n",
    "except SyntaxError:\n",
    "    print(\"我在問你究竟是在說些什麼\")\n",
    "except ValueError:\n",
    "    print(\"你這錢不對啊\")\n",
    "except:\n",
    "    print(\"窩不知道 窩不知道\")\n",
    "else:\n",
    "    print(money)\n",
    "    print(f1)\n",
    "print(\"遊戲結束\")"
   ]
  }
 ],
 "metadata": {
  "kernelspec": {
   "display_name": "Python 3",
   "language": "python",
   "name": "python3"
  },
  "language_info": {
   "codemirror_mode": {
    "name": "ipython",
    "version": 3
   },
   "file_extension": ".py",
   "mimetype": "text/x-python",
   "name": "python",
   "nbconvert_exporter": "python",
   "pygments_lexer": "ipython3",
   "version": "3.10.13"
  }
 },
 "nbformat": 4,
 "nbformat_minor": 2
}
