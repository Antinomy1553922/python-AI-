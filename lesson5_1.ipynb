{
 "cells": [
  {
   "cell_type": "code",
   "execution_count": 8,
   "metadata": {},
   "outputs": [
    {
     "ename": "SyntaxError",
     "evalue": "invalid decimal literal (<string>, line 1)",
     "output_type": "error",
     "traceback": [
      "Traceback \u001b[0;36m(most recent call last)\u001b[0m:\n",
      "\u001b[0m  File \u001b[1;32m~/.local/lib/python3.10/site-packages/IPython/core/interactiveshell.py:3548\u001b[0m in \u001b[1;35mrun_code\u001b[0m\n    exec(code_obj, self.user_global_ns, self.user_ns)\u001b[0m\n",
      "\u001b[0;36m  Cell \u001b[0;32mIn[8], line 1\u001b[0;36m\n\u001b[0;31m    money = eval(input(\"請輸入金額：\"))\u001b[0;36m\n",
      "\u001b[0;36m  File \u001b[0;32m<string>:1\u001b[0;36m\u001b[0m\n\u001b[0;31m    25a\u001b[0m\n\u001b[0m     ^\u001b[0m\n\u001b[0;31mSyntaxError\u001b[0m\u001b[0;31m:\u001b[0m invalid decimal literal\n"
     ]
    }
   ],
   "source": [
    "money = eval(input(\"請輸入金額：\"))\n",
    "print(money)\n",
    "\n",
    "#SyntaxError:格式不對\n",
    "#ValueError:"
   ]
  },
  {
   "cell_type": "code",
   "execution_count": 13,
   "metadata": {},
   "outputs": [
    {
     "name": "stdout",
     "output_type": "stream",
     "text": [
      "窩不知道 窩不知道\n",
      "遊戲結束\n"
     ]
    }
   ],
   "source": [
    "#try except\n",
    "#優雅的錯誤\n",
    "\n",
    "try:\n",
    "    money = int(input(\"請輸入金額\"))\n",
    "    f1 = eval(input(\"請輸入浮點數\"))  \n",
    "except SyntaxError:\n",
    "    print(\"我在問你究竟是在說些什麼\")\n",
    "except ValueError:\n",
    "    print(\"你這錢不對啊\")\n",
    "except:\n",
    "    print(\"窩不知道 窩不知道\")\n",
    "\n",
    "print(\"遊戲結束\")"
   ]
  },
  {
   "cell_type": "code",
   "execution_count": null,
   "metadata": {},
   "outputs": [],
   "source": [
    "#continue：跳回上方再次執行\n",
    "#break：直接跳出迴圈\n",
    "\n",
    "#顯示：\n",
    "#奇數輸出平方\n",
    "#偶數不做任何動作\n",
    "#\"q\"要離開\n",
    "\n",
    "#優雅的錯誤：try & except (feat.5-2)\n",
    "\n",
    "while(True):\n",
    "    value = input(\"請輸入整數(輸入「q」則中止程式)\")\n",
    "    if value == 'q':\n",
    "        break\n",
    "\n",
    "    try:\n",
    "        valueInt = int(value) #強制轉換value成int\n",
    "    except:\n",
    "        print(f\"你打這{value}但這格式不對啊\")\n",
    "        continue #跳回上面(True)重複執行\n",
    "\n",
    "    if valueInt % 2 == 1:\n",
    "        print(f\"{valueInt}的平方是{valueInt ** 2}\")\n",
    "    else:\n",
    "        print(\"窩不知道\")\n",
    "\n",
    "print(\"有內鬼，終止交易\")"
   ]
  },
  {
   "cell_type": "code",
   "execution_count": 26,
   "metadata": {},
   "outputs": [
    {
     "name": "stdout",
     "output_type": "stream",
     "text": [
      "2\n",
      "3\n",
      "遊戲結束\n"
     ]
    }
   ],
   "source": [
    "#try except else\n",
    "#except可以有很多個\n",
    "#else只能有一個\n",
    "#三個except一定會執行其中一個\n",
    "#如果都沒有錯誤就會執行else\n",
    "\n",
    "try:\n",
    "    money = int(input(\"請輸入金額\"))\n",
    "    f1 = eval(input(\"請輸入浮點數\"))  \n",
    "except SyntaxError:\n",
    "    print(\"我在問你究竟是在說些什麼\")\n",
    "except ValueError:\n",
    "    print(\"你這錢不對啊\")\n",
    "except:\n",
    "    print(\"窩不知道 窩不知道\")\n",
    "else:\n",
    "    print(money)\n",
    "    print(f1)\n",
    "print(\"遊戲結束\")"
   ]
  },
  {
   "cell_type": "code",
   "execution_count": null,
   "metadata": {},
   "outputs": [],
   "source": [
    "#學生總分為300\n",
    "#要檢查學生輸入分數是<=300\n",
    "#要檢查是否輸入格式是否正確\n",
    "#有些學生可以加分5%\n",
    "#如果加分超過300,就以300分為準\n",
    "try:\n",
    "    scores = int(input(\"請輸入學生分數(最高300分):\"))    \n",
    "except ValueError:\n",
    "    print(\"格式有錯\")\n",
    "except:\n",
    "    print(\"不知名的錯誤\")\n",
    "else:\n",
    "    if scores <= 300:\n",
    "        is_add = input(\"學生是否符合加分條件?(y,n)\")\n",
    "\n",
    "        if(is_add == \"y\"):\n",
    "            scores *= 1.05\n",
    "            if scores > 300:\n",
    "                scores = 300\n",
    "        print(f\"學生分數是{round(scores)}\")\n",
    "    else:\n",
    "        print(\"學生分數不可以大於300\")\n",
    "\n",
    "#print(f\"學生分數是{scores:.0f}\")\n",
    "#print(f\"學生分數是{int(scores)}\")"
   ]
  },
  {
   "cell_type": "code",
   "execution_count": 30,
   "metadata": {},
   "outputs": [
    {
     "name": "stdout",
     "output_type": "stream",
     "text": [
      "學生分數是250\n"
     ]
    }
   ],
   "source": [
    "#學生總分為300\n",
    "#要檢查學生輸入分數是<=300\n",
    "#有些學生可以加分5%\n",
    "#如果加分超過300，就以300分為準\n",
    "\n",
    "try:\n",
    "    scores = int(input(\"請輸入分數(最高300分)\"))\n",
    "except ValueError:\n",
    "    print(\"格式錯誤\")\n",
    "except:\n",
    "    print(\"窩不知道 窩不知道\")\n",
    "else:\n",
    "    if scores <= 300:\n",
    "        is_add = input(\"學生是否符合加分條件(y,n)\")\n",
    "\n",
    "        if(is_add == \"y\"):\n",
    "            scores *= 1.05\n",
    "            if scores > 300:\n",
    "                scores = 300\n",
    "        print(f\"學生分數是{round(scores)}\")\n",
    "    else:\n",
    "        print(\"學生分數不可以高於300分\")\n",
    "\n",
    "#print(f\"學生分數是{scores:.0f}\")\n",
    "#print(f\"學生分數是{int(scores)}\")\n",
    "\n",
    "#round = 四捨五入"
   ]
  }
 ],
 "metadata": {
  "kernelspec": {
   "display_name": "Python 3",
   "language": "python",
   "name": "python3"
  },
  "language_info": {
   "codemirror_mode": {
    "name": "ipython",
    "version": 3
   },
   "file_extension": ".py",
   "mimetype": "text/x-python",
   "name": "python",
   "nbconvert_exporter": "python",
   "pygments_lexer": "ipython3",
   "version": "3.10.13"
  }
 },
 "nbformat": 4,
 "nbformat_minor": 2
}
