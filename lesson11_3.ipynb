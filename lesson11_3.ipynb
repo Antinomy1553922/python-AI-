{
 "cells": [
  {
   "cell_type": "code",
   "execution_count": null,
   "metadata": {},
   "outputs": [],
   "source": [
    "#Dictionary：詞典物件 map\n",
    "#key and value\n",
    "#key不能跟value重複\n",
    "#資料類型 dict\n",
    "#typehit dict[str,str]\n",
    "#建立方法：符號{key:value,key:value}、dict((key,value),(key,value))\n",
    "#tuple：暫時把兩個值儲存在一起"
   ]
  },
  {
   "cell_type": "code",
   "execution_count": 6,
   "metadata": {},
   "outputs": [
    {
     "name": "stdout",
     "output_type": "stream",
     "text": [
      "{'jp': 'japan', 'tw': 'taiwan'}\n"
     ]
    }
   ],
   "source": [
    "codes:dict[str,str] = {'jp':\"japan\",\n",
    "                       'tw':'taiwan'}     #dict[str,str]：typehint(不一定要)\n",
    "print(codes)\n"
   ]
  },
  {
   "cell_type": "code",
   "execution_count": 3,
   "metadata": {},
   "outputs": [
    {
     "data": {
      "text/plain": [
       "{'jp': 'japan', 'tw': 'taiwan'}"
      ]
     },
     "execution_count": 3,
     "metadata": {},
     "output_type": "execute_result"
    }
   ],
   "source": [
    "codes1:dict[str,str] = dict([('jp','japan'),('tw','taiwan')])           #dict[str,str]：typehint(不一定要)\n",
    "codes1"
   ]
  },
  {
   "cell_type": "code",
   "execution_count": 7,
   "metadata": {},
   "outputs": [
    {
     "data": {
      "text/plain": [
       "dict_items([('jp', 'japan'), ('tw', 'taiwan')])"
      ]
     },
     "execution_count": 7,
     "metadata": {},
     "output_type": "execute_result"
    }
   ],
   "source": [
    "codes1.items()"
   ]
  }
 ],
 "metadata": {
  "kernelspec": {
   "display_name": "Python 3",
   "language": "python",
   "name": "python3"
  },
  "language_info": {
   "codemirror_mode": {
    "name": "ipython",
    "version": 3
   },
   "file_extension": ".py",
   "mimetype": "text/x-python",
   "name": "python",
   "nbconvert_exporter": "python",
   "pygments_lexer": "ipython3",
   "version": "3.10.13"
  }
 },
 "nbformat": 4,
 "nbformat_minor": 2
}
