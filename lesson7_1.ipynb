{
 "cells": [
  {
   "cell_type": "code",
   "execution_count": 1,
   "metadata": {},
   "outputs": [
    {
     "name": "stdout",
     "output_type": "stream",
     "text": [
      "請輸入第1個月存多少錢30000\n",
      "\n",
      "恭喜，你辛苦存了1個月的薪水，已經累積了30000元，已經可以變成那台酷酷的勁戰了喔！\n"
     ]
    }
   ],
   "source": [
    "#while不明確知道執行的次數\n",
    "\n",
    "#小明想要存錢買一輛機車，機車每輛30000元，他將每月存的錢輸入，當存款足夠時，就顯示訊息告知。\n",
    "\n",
    "import pyinputplus as pyip\n",
    "deposit = 0\n",
    "month = 0\n",
    "while deposit < 30000:\n",
    "    month += 1\n",
    "    money_month = pyip.inputInt(f\"請輸入第{month}個月存多少錢\")\n",
    "    print(money_month)\n",
    "    print()\n",
    "    deposit += money_month\n",
    "\n",
    "print(f\"恭喜，你辛苦存了{month}個月的薪水，已經累積了{deposit}元，已經可以變成那台酷酷的勁戰了喔！\")"
   ]
  },
  {
   "cell_type": "code",
   "execution_count": 2,
   "metadata": {},
   "outputs": [
    {
     "name": "stdout",
     "output_type": "stream",
     "text": [
      "請輸入小寫的英文字母(按下Q就會離開：Usa\n",
      "請輸入小寫的英文字母(按下Q就會離開)：Uk\n",
      "請輸入小寫的英文字母(按下Q就會離開)：Q\n",
      "請輸入小寫的英文字母(按下Q就會離開)：遊戲結束！\n"
     ]
    }
   ],
   "source": [
    "#改良前\n",
    "\n",
    "#輸入小寫的英文字,列印出第一個字大寫\n",
    "#如果輸入q，就會離開\n",
    "\n",
    "stuff = pyip.inputStr(\"請輸入小寫的英文字母(按下Q就會離開)：\")\n",
    "while(stuff != \"q\"):   #字串比較大多用 == or !=\n",
    "    print(stuff.capitalize())   #capitalize 實體方法之一\n",
    "    stuff = pyip.inputStr(\"請輸入小寫的英文字母(按下Q就會離開)：\")\n",
    "print(\"遊戲結束！\")"
   ]
  },
  {
   "cell_type": "code",
   "execution_count": 3,
   "metadata": {},
   "outputs": [
    {
     "name": "stdout",
     "output_type": "stream",
     "text": [
      "請輸入小寫的英文字母(按下Q離開)：Usa\n",
      "請輸入小寫的英文字母(按下Q離開)：Uk\n",
      "請輸入小寫的英文字母(按下Q離開)：遊戲結束！\n"
     ]
    }
   ],
   "source": [
    "#改良後\n",
    "\n",
    "#輸入小寫的英文字,列印出第一個字大寫\n",
    "#如果輸入q，就會離開\n",
    "\n",
    "#一進來就打True：要求一開始進入迴圈。沒有break = 無限迴圈\n",
    "#用break跳出迴圈比跑完所有再回到上面的True判斷更加靈活\n",
    "#懶人包：break讚\n",
    "\n",
    "while(True):   \n",
    "    stuff = pyip.inputStr(\"請輸入小寫的英文字母(按下Q離開)：\")\n",
    "    if stuff == \"q\":\n",
    "        break\n",
    "    print(stuff.capitalize())\n",
    "    \n",
    "print(\"遊戲結束！\")"
   ]
  },
  {
   "cell_type": "code",
   "execution_count": 7,
   "metadata": {},
   "outputs": [
    {
     "name": "stdout",
     "output_type": "stream",
     "text": [
      "請輸入第1學生成績：100\n",
      "請輸入第2學生成績：100\n",
      "請輸入第3學生成績：100\n",
      "請輸入第4學生成績：-1\n",
      "全班總成績為300，平均為100.0\n"
     ]
    }
   ],
   "source": [
    "#小美是一個位教師，請以while迴圈設計一個輸入成績的程式，如果輸入負數表示程式結束，在輸入成績結束後顯示班上總成績及平均成績。\n",
    "\n",
    "sum = 0\n",
    "num = 0\n",
    "\n",
    "while(True): #一開始就進入迴圈\n",
    "\n",
    "    score = pyip.inputInt(f\"請輸入第{num+1}學生成績：\")\n",
    "    print(score)\n",
    "    if score < 0:\n",
    "        break\n",
    "    num += 1    \n",
    "    sum += score\n",
    "\n",
    "print(f\"全班總成績為{sum}，平均為{sum/num}\")\n"
   ]
  },
  {
   "cell_type": "code",
   "execution_count": 12,
   "metadata": {},
   "outputs": [
    {
     "name": "stdout",
     "output_type": "stream",
     "text": [
      "請輸入第1學生成績：100\n",
      "請輸入第2學生成績：100\n",
      "請輸入第3學生成績：100\n",
      "請輸入第4學生成績：-1\n",
      "全班總成績為300，平均為100.0\n"
     ]
    }
   ],
   "source": [
    "#另一種寫法\n",
    "\n",
    "sum = 0\n",
    "num = 0\n",
    "\n",
    "while(True): #一開始就進入迴圈\n",
    "    num += 1\n",
    "    score = pyip.inputInt(f\"請輸入第{num}學生成績：\")\n",
    "    print(score)\n",
    "    if score < 0:\n",
    "        break\n",
    "    sum += score\n",
    "\n",
    "print(f\"全班總成績為{sum}，平均為{sum/(num-1)}\")"
   ]
  },
  {
   "cell_type": "code",
   "execution_count": 20,
   "metadata": {},
   "outputs": [
    {
     "name": "stdout",
     "output_type": "stream",
     "text": [
      "你打這aaa但這格式不對啊\n",
      "3的平方是9\n",
      "你打這s222但這格式不對啊\n",
      "你打這sss但這格式不對啊\n",
      "你打這謀勇兼備 我的謀勇但這格式不對啊\n",
      "你打這qw但這格式不對啊\n",
      "有內鬼，終止交易\n"
     ]
    }
   ],
   "source": [
    "#continue：跳回上方再次執行\n",
    "#break：直接跳出迴圈\n",
    "\n",
    "#顯示：\n",
    "#奇數輸出平方\n",
    "#偶數不做任何動作\n",
    "#\"q\"要離開\n",
    "\n",
    "#優雅的錯誤：try & except (feat.5-2)\n",
    "\n",
    "while(True):\n",
    "    value = input(\"請輸入整數(輸入「q」則中止程式)\")\n",
    "    if value == 'q':\n",
    "        break\n",
    "\n",
    "    try:\n",
    "        valueInt = int(value) #強制轉換value成int\n",
    "    except:\n",
    "        print(f\"你打這{value}但這格式不對啊\")\n",
    "        continue #跳回上面(True)重複執行\n",
    "\n",
    "    if valueInt % 2 == 1:\n",
    "        print(f\"{valueInt}的平方是{valueInt ** 2}\")\n",
    "    else:\n",
    "        print(\"窩不知道\")\n",
    "\n",
    "print(\"有內鬼，終止交易\")"
   ]
  }
 ],
 "metadata": {
  "kernelspec": {
   "display_name": "Python 3",
   "language": "python",
   "name": "python3"
  },
  "language_info": {
   "codemirror_mode": {
    "name": "ipython",
    "version": 3
   },
   "file_extension": ".py",
   "mimetype": "text/x-python",
   "name": "python",
   "nbconvert_exporter": "python",
   "pygments_lexer": "ipython3",
   "version": "3.10.13"
  }
 },
 "nbformat": 4,
 "nbformat_minor": 2
}
