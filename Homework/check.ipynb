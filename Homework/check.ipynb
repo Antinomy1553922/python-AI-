{
 "cells": [
  {
   "cell_type": "code",
   "execution_count": 4,
   "metadata": {},
   "outputs": [
    {
     "data": {
      "text/plain": [
       "365"
      ]
     },
     "execution_count": 4,
     "metadata": {},
     "output_type": "execute_result"
    }
   ],
   "source": [
    "import pandas as pd\n",
    "from sqlalchemy import create_engine\n",
    "\n",
    "df1 = pd.read_csv(\"world.csv\")\n",
    "taiwan2021 = df1.query('國家==\"台灣\" and 日期>=\"2021-01-01\" and 日期<\"2022-01-01\"')\n",
    "engine = create_engine(\"sqlite:///cov19.db\")\n",
    "taiwan2021.to_sql(\"台灣2021\",engine,if_exists = \"replace\",index = False)"
   ]
  },
  {
   "cell_type": "code",
   "execution_count": 3,
   "metadata": {},
   "outputs": [],
   "source": [
    "import pandas as pd\n",
    "\n",
    "dataFrame = pd.read_csv(\"world.csv\",usecols=['國家','日期','總確診數','新增確診數'])\n",
    "USdata = dataFrame.query('國家==\"美國\"')\n",
    "sortedFrame = USdata.sort_values(by='新增確診數',ascending=False)\n",
    "sortedFrame.iloc[:100]\n",
    "sortedFrame.to_json('cov19USA.json',force_ascii=False,orient='table')"
   ]
  }
 ],
 "metadata": {
  "kernelspec": {
   "display_name": "Python 3",
   "language": "python",
   "name": "python3"
  },
  "language_info": {
   "codemirror_mode": {
    "name": "ipython",
    "version": 3
   },
   "file_extension": ".py",
   "mimetype": "text/x-python",
   "name": "python",
   "nbconvert_exporter": "python",
   "pygments_lexer": "ipython3",
   "version": "3.12.1"
  }
 },
 "nbformat": 4,
 "nbformat_minor": 2
}
