{
 "cells": [
  {
   "cell_type": "code",
   "execution_count": null,
   "metadata": {},
   "outputs": [],
   "source": [
    "#作業2-2\n",
    "\n",
    "import pyinputplus as pyip\n",
    "\n",
    "num = pyip.inputInt(\"請輸入整數，求所有因數和\",min = 0)\n",
    "print(num)\n",
    "print(f\"{num}的因數有：\")\n",
    "for i in range(1,num+1):\n",
    "    if num % i == 0:\n",
    "        print(f\"{i}\")\n"
   ]
  }
 ],
 "metadata": {
  "language_info": {
   "name": "python"
  }
 },
 "nbformat": 4,
 "nbformat_minor": 2
}
