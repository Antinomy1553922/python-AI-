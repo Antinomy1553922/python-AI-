{
 "cells": [
  {
   "cell_type": "code",
   "execution_count": null,
   "metadata": {},
   "outputs": [],
   "source": [
    "#作業5\n",
    "\n",
    "import requests\n",
    "import csv\n",
    "import pandas as pd\n",
    "\n",
    "url = 'https://raw.githubusercontent.com/roberthsu2003/PythonForDataAnalysis/master/%E6%AA%94%E6%A1%88%E5%AD%98%E5%8F%96/%E5%80%8B%E8%82%A1%E6%97%A5%E6%88%90%E4%BA%A4%E8%B3%87%E8%A8%8A.csv'\n",
    "response:requests.Response = requests.get(url)\n",
    "if response.status_code == 200:\n",
    "    print(\"下載成功\")\n",
    "    data:str = response.text\n",
    "elif response.status_code >= 400:\n",
    "    print(\"下載失敗\")\n",
    "elif response.status_code > 200:\n",
    "    print(\"下載有問題\")\n",
    "\n",
    "with open(\"個股日成交資訊.csv\",mode='w',encoding='utf8') as file:\n",
    "    file.write(data)\n",
    "\n",
    "with open(\"個股日成交資訊.csv\",mode='r',encoding='utf8',newline='') as file:\n",
    "    dict_reader = csv.DictReader(file)\n",
    "    csv_data:list[str] = list(dict_reader)\n",
    "\n",
    "dataFrame = pd.DataFrame(csv_data)\n",
    "dataFrame\n"
   ]
  }
 ],
 "metadata": {
  "language_info": {
   "name": "python"
  }
 },
 "nbformat": 4,
 "nbformat_minor": 2
}
