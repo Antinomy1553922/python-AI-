{
 "cells": [
  {
   "cell_type": "code",
   "execution_count": null,
   "metadata": {},
   "outputs": [],
   "source": [
    "#作業2\n",
    "#https://github.com/roberthsu2003/__2023_11_14_2_4__/issues/2\n",
    "\n",
    "import pyinputplus as pyip\n",
    "\n",
    "money = pyip.inputInt(\"請輸入購買金額：\")\n",
    "print(money)\n",
    "\n",
    "if money >= 100000:\n",
    "    money = money * 0.8\n",
    "elif money >= 50000:\n",
    "    money = money * 0.85\n",
    "elif money >= 30000:\n",
    "    money = money * 0.9\n",
    "else:\n",
    "    money = money * 0.95\n",
    "print(f\"實付金額是:{money:.1f}\")\n"
   ]
  }
 ],
 "metadata": {
  "language_info": {
   "name": "python"
  }
 },
 "nbformat": 4,
 "nbformat_minor": 2
}
