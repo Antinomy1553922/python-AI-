{
 "cells": [
  {
   "cell_type": "code",
   "execution_count": null,
   "metadata": {},
   "outputs": [],
   "source": [
    "#作業1\n",
    "#00(含)~59：D\n",
    "#60(含)~69：C\n",
    "#70(含)~79：B\n",
    "#80(含)~89：A\n",
    "#90(含)~100：S\n",
    "\n",
    "import pyinputplus as pyip\n",
    "\n",
    "scores = pyip.inputInt(\"請輸入學生分數：(0~100)\",max=100,min=0)\n",
    "print(scores)\n",
    "#多項選擇\n",
    "if scores >= 90:\n",
    "    print(\"S\")\n",
    "elif scores >= 80:\n",
    "    print(\"A\")\n",
    "elif scores >= 70:\n",
    "    print(\"B\")\n",
    "elif scores >= 60:\n",
    "    print(\"C\")\n",
    "else:\n",
    "    print(\"D\")"
   ]
  }
 ],
 "metadata": {
  "language_info": {
   "name": "python"
  }
 },
 "nbformat": 4,
 "nbformat_minor": 2
}
