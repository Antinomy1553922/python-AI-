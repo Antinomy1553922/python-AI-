{
 "cells": [
  {
   "cell_type": "code",
   "execution_count": null,
   "metadata": {},
   "outputs": [],
   "source": [
    "#作業9\n",
    "\n",
    "import pandas as pd\n",
    "\n",
    "dataFrame1 = pd.read_csv(\"world.csv\")\n",
    "usaframe = dataFrame1.query('國家==\"美國\"')\n",
    "usasortframe = usaframe.sort_values('新增確診數',ascending=False)\n",
    "usasortframe.iloc[:100]\n",
    "usasortframe.to_json(\"usailoc100.json\",force_ascii=False,orient='table')"
   ]
  }
 ],
 "metadata": {
  "kernelspec": {
   "display_name": "Python 3",
   "language": "python",
   "name": "python3"
  },
  "language_info": {
   "codemirror_mode": {
    "name": "ipython",
    "version": 3
   },
   "file_extension": ".py",
   "mimetype": "text/x-python",
   "name": "python",
   "nbconvert_exporter": "python",
   "pygments_lexer": "ipython3",
   "version": "3.12.1"
  }
 },
 "nbformat": 4,
 "nbformat_minor": 2
}
