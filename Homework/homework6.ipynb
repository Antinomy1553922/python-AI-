{
 "cells": [
  {
   "cell_type": "code",
   "execution_count": null,
   "metadata": {},
   "outputs": [],
   "source": [
    "#作業6\n",
    "\n",
    "import requests\n",
    "import ssl\n",
    "import json\n",
    "import pandas as pd\n",
    "\n",
    "url ='https://opendata.cwa.gov.tw/api/v1/rest/datastore/O-A0001-001?Authorization=CWA-F8118A9B-5810-438C-8427-09465191D7CA&format=JSON&WeatherElement=Weather&GeoInfo='\n",
    "response = requests.get(url,verify=False)\n",
    "\n",
    "if response.ok:\n",
    "    print(\"下載成功\")\n",
    "    json_str:str = response.text  #下載文字\n",
    "else:\n",
    "    print(\"下載失敗\")\n",
    "\n",
    "jsonData = response.json()\n",
    "jsonData[\"success\"]\n",
    "jsonData[\"records\"][\"Station\"]\n",
    "jsonRecords = jsonData[\"records\"][\"Station\"]\n",
    "\n",
    "station_weather:list[dict] = []\n",
    "for item in jsonRecords:\n",
    "    station_item = {}\n",
    "    station_item['日期時間'] = item['ObsTime']['DateTime']\n",
    "    station_item['縣市'] = item['GeoInfo']['CountyName']\n",
    "    station_item['區域'] = item['GeoInfo']['TownName']\n",
    "    station_item['溫度'] = float(item['GeoInfo']['StationAltitude'])\n",
    "    station_item['狀態'] = item['WeatherElement']['Weather']\n",
    "\n",
    "    station_weather.append(station_item)\n",
    "station_weather\n",
    "\n",
    "dataFrame = pd.DataFrame(station_weather)\n",
    "dataFrame"
   ]
  }
 ],
 "metadata": {
  "language_info": {
   "name": "python"
  }
 },
 "nbformat": 4,
 "nbformat_minor": 2
}
