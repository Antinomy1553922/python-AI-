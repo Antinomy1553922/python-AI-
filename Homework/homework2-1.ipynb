{
 "cells": [
  {
   "cell_type": "code",
   "execution_count": null,
   "metadata": {},
   "outputs": [],
   "source": [
    "#作業2-1\n",
    "\n",
    "import pyinputplus as pyip\n",
    "\n",
    "height = pyip.inputInt(f\"請輸入身高，單位公分：\\n\")\n",
    "print(height)\n",
    "weight = pyip.inputInt(f\"請輸入體重，單位公斤：\\n\")\n",
    "print(weight)\n",
    "\n",
    "bmi = weight / (height*0.01) ** 2\n",
    "print(f\"你的BMI為\\n{bmi}\")\n",
    "\n",
    "if bmi < 18.5:\n",
    "    print(f\"BMI一共{bmi:.5f}\\n你太輕了！多吃一點！(體重過輕)\")\n",
    "elif bmi < 24:\n",
    "    print(f\"BMI一共{bmi:.5f}\\n恭喜你！你是個正常人！(體重正常)\")\n",
    "elif bmi < 27:\n",
    "    print(f\"BMI一共{bmi:.5f}\\n你有點太重了，需要控制一下！(體重過重)\")\n",
    "elif bmi < 30:\n",
    "    print(f\"BMI一共{bmi:.5f}\\n小心！你已經開始肥胖了！\")\n",
    "elif bmi < 35:\n",
    "    print(f\"BMI一共{bmi:.5f}\\n你真的有點胖了啦，注意一下生活或作息！\")\n",
    "else:\n",
    "    print(f\"BMI一共{bmi:.5f}\\n不要吃太胖喔，會被殺掉的！\")\n"
   ]
  }
 ],
 "metadata": {
  "language_info": {
   "name": "python"
  }
 },
 "nbformat": 4,
 "nbformat_minor": 2
}
