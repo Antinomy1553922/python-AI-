{
 "cells": [
  {
   "cell_type": "code",
   "execution_count": 5,
   "metadata": {},
   "outputs": [
    {
     "data": {
      "text/plain": [
       "['a', 'b', 'c']"
      ]
     },
     "execution_count": 5,
     "metadata": {},
     "output_type": "execute_result"
    }
   ],
   "source": [
    "#透過[]建立list的實體\n",
    "l1 = []\n",
    "l1.append(\"a\")\n",
    "l1.append(\"b\")\n",
    "l1.append(\"c\")\n",
    "l1"
   ]
  },
  {
   "cell_type": "code",
   "execution_count": 6,
   "metadata": {},
   "outputs": [
    {
     "data": {
      "text/plain": [
       "[]"
      ]
     },
     "execution_count": 6,
     "metadata": {},
     "output_type": "execute_result"
    }
   ],
   "source": [
    "#透過list的init()，建立list實體\n",
    "l2 = list()\n",
    "l2"
   ]
  },
  {
   "cell_type": "code",
   "execution_count": 7,
   "metadata": {},
   "outputs": [
    {
     "data": {
      "text/plain": [
       "['h', 'e', 'l', 'l', 'o', ' ', 'w', 'o', 'r', 'l', 'd']"
      ]
     },
     "execution_count": 7,
     "metadata": {},
     "output_type": "execute_result"
    }
   ],
   "source": [
    "#字串是一種串列資料\n",
    "l3 = list(\"hello world\")\n",
    "l3"
   ]
  },
  {
   "cell_type": "code",
   "execution_count": 18,
   "metadata": {},
   "outputs": [
    {
     "data": {
      "text/plain": [
       "[]"
      ]
     },
     "execution_count": 18,
     "metadata": {},
     "output_type": "execute_result"
    }
   ],
   "source": [
    "l4 = list(range(1,10))\n",
    "l4.append(10)\n",
    "l4.insert(0,0)  #指定位置，插入數字\n",
    "l4.pop()    #從後面拿掉(無輸入預設狀況)\n",
    "l4.pop(0)   #拿掉第0個\n",
    "l4.clear()\n",
    "l4"
   ]
  },
  {
   "cell_type": "code",
   "execution_count": 20,
   "metadata": {},
   "outputs": [
    {
     "name": "stdout",
     "output_type": "stream",
     "text": [
      "9\n",
      "1\n"
     ]
    }
   ],
   "source": [
    "l5 = list(range(1,10))\n",
    "len(l5)\n",
    "print(max(l5))\n",
    "print(min(l5))"
   ]
  },
  {
   "cell_type": "code",
   "execution_count": 1,
   "metadata": {},
   "outputs": [
    {
     "name": "stdout",
     "output_type": "stream",
     "text": [
      "<_io.TextIOWrapper name='content.txt' mode='w' encoding='utf-8'>\n"
     ]
    }
   ],
   "source": [
    "file = open(\"content.txt\",mode=\"w\",encoding=\"utf-8\")\n",
    "print(file)\n",
    "file.writelines([\"再見了最強，不過是生在沒有我時代的，\\n凡夫\\n\"])\n",
    "file.writelines([\"連一刻都沒有為本初之海的退役感到悲哀\\n\"])\n",
    "file.write(\"立刻趕到戰場的是：\\n\")\n",
    "file.write(\"最新有馬最後一跑，領銜\")\n",
    "file.close()"
   ]
  }
 ],
 "metadata": {
  "kernelspec": {
   "display_name": "Python 3",
   "language": "python",
   "name": "python3"
  },
  "language_info": {
   "codemirror_mode": {
    "name": "ipython",
    "version": 3
   },
   "file_extension": ".py",
   "mimetype": "text/x-python",
   "name": "python",
   "nbconvert_exporter": "python",
   "pygments_lexer": "ipython3",
   "version": "3.10.13"
  }
 },
 "nbformat": 4,
 "nbformat_minor": 2
}
