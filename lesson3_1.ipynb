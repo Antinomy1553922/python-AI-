{
 "cells": [
  {
   "cell_type": "code",
   "execution_count": 1,
   "metadata": {},
   "outputs": [
    {
     "data": {
      "text/plain": [
       "15"
      ]
     },
     "execution_count": 1,
     "metadata": {},
     "output_type": "execute_result"
    }
   ],
   "source": [
    "n = 5\n",
    "m = 10\n",
    "total = n + m\n",
    "total"
   ]
  },
  {
   "cell_type": "code",
   "execution_count": 9,
   "metadata": {},
   "outputs": [
    {
     "data": {
      "text/plain": [
       "240"
      ]
     },
     "execution_count": 9,
     "metadata": {},
     "output_type": "execute_result"
    }
   ],
   "source": [
    "#使用input()，讓使用者自行輸入值\n",
    "n = int(input(\"請輸入n的值:\"))\n",
    "m = int(input(\"請輸入m的值：\"))\n",
    "total = n + m\n",
    "total\n"
   ]
  },
  {
   "cell_type": "code",
   "execution_count": 4,
   "metadata": {},
   "outputs": [
    {
     "data": {
      "text/plain": [
       "'510'"
      ]
     },
     "execution_count": 4,
     "metadata": {},
     "output_type": "execute_result"
    }
   ],
   "source": [
    "\"5\" + \"10\""
   ]
  },
  {
   "cell_type": "code",
   "execution_count": 21,
   "metadata": {},
   "outputs": [
    {
     "name": "stdout",
     "output_type": "stream",
     "text": [
      "2.4 + 8.8 = 11.200000000000001\n"
     ]
    }
   ],
   "source": [
    "#使用input()，讓使用者自行輸入值\n",
    "n = eval(input(\"請輸入n的值:\"))\n",
    "m = eval(input(\"請輸入m的值：\"))\n",
    "total = n + m\n",
    "total\n",
    "print(n, '+', m, '=', total)"
   ]
  },
  {
   "cell_type": "code",
   "execution_count": 17,
   "metadata": {},
   "outputs": [
    {
     "name": "stdout",
     "output_type": "stream",
     "text": [
      "3\n",
      "3 5 ab 3.145\n"
     ]
    }
   ],
   "source": [
    "#1個引數值\n",
    "print(3)\n",
    "#2個引數值\n",
    "print(3, \"5\", \"ab\", 3.145)\n",
    "#print 引數值 沒有限定數量 \n",
    "#有很多引數值的話中間預設空一格"
   ]
  },
  {
   "cell_type": "code",
   "execution_count": 23,
   "metadata": {},
   "outputs": [
    {
     "name": "stdout",
     "output_type": "stream",
     "text": [
      "3.14159+7.24682=10.39\n"
     ]
    }
   ],
   "source": [
    "#使用input()，讓使用者自行輸入值\n",
    "n = eval(input(\"請輸入n的值:\"))\n",
    "m = eval(input(\"請輸入m的值：\"))\n",
    "total = n + m\n",
    "total\n",
    "#字串插補：字串和變數整合成為全新的字串\n",
    "#f = formatted(格式)\n",
    "print(f\"{n}+{m}={total:.2f}\")\n",
    "#.2f 字串格式化，取至小數後第二位"
   ]
  }
 ],
 "metadata": {
  "kernelspec": {
   "display_name": "Python 3",
   "language": "python",
   "name": "python3"
  },
  "language_info": {
   "codemirror_mode": {
    "name": "ipython",
    "version": 3
   },
   "file_extension": ".py",
   "mimetype": "text/x-python",
   "name": "python",
   "nbconvert_exporter": "python",
   "pygments_lexer": "ipython3",
   "version": "3.10.13"
  }
 },
 "nbformat": 4,
 "nbformat_minor": 2
}
