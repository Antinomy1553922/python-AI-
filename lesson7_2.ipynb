{
 "cells": [
  {
   "cell_type": "code",
   "execution_count": 25,
   "metadata": {},
   "outputs": [
    {
     "name": "stdout",
     "output_type": "stream",
     "text": [
      "================猜數字遊戲================\n",
      "猜數字範圍1~100：88\n",
      "再縮小一點！\n",
      "你嘗試了1次\n",
      "======================\n",
      "猜數字範圍1~87：44\n",
      "再縮小一點！\n",
      "你嘗試了2次\n",
      "======================\n",
      "猜數字範圍1~43：42\n",
      "再縮小一點！\n",
      "你嘗試了3次\n",
      "======================\n",
      "猜數字範圍1~41：35\n",
      "再縮小一點！\n",
      "你嘗試了4次\n",
      "======================\n",
      "猜數字範圍1~34：22\n",
      "再縮小一點！\n",
      "你嘗試了5次\n",
      "======================\n",
      "猜數字範圍1~21：15\n",
      "再縮小一點！\n",
      "你嘗試了6次\n",
      "======================\n",
      "猜數字範圍1~14：14\n",
      "再縮小一點！\n",
      "你嘗試了7次\n",
      "======================\n",
      "猜數字範圍1~13：8\n",
      "再縮小一點！\n",
      "你嘗試了8次\n",
      "======================\n",
      "猜數字範圍1~7：9\n",
      "再縮小一點！\n",
      "你嘗試了9次\n",
      "======================\n",
      "猜數字範圍1~8：6\n",
      "今天的你歐氣滿滿，答案是:6！\n",
      "你嘗試了10次\n",
      "遊戲結束\n"
     ]
    }
   ],
   "source": [
    "import pyinputplus as pyip\n",
    "import random\n",
    "\n",
    "min = 1\n",
    "max = 100\n",
    "count = 0\n",
    "random_number = random.randint(min,max) #包含max\n",
    "print(\"================猜數字遊戲================\")\n",
    "while(True):\n",
    "    keyin = pyip.inputInt(f\"猜數字範圍{min}~{max}：\")\n",
    "    count += 1\n",
    "    print(keyin)\n",
    "    if keyin == random_number:\n",
    "        print(f\"今天的你歐氣滿滿，答案是:{random_number}！\")\n",
    "        print(f\"你嘗試了{count}次\")\n",
    "        break\n",
    "    elif keyin > random_number:\n",
    "        print(\"再縮小一點！\")\n",
    "        max = keyin -1\n",
    "    elif keyin < random_number:\n",
    "        print(\"再放大一點！\")\n",
    "        min = keyin +1\n",
    "    print(f\"你嘗試了{count}次\")\n",
    "    print(\"======================\")\n",
    "        \n",
    "        \n",
    "\n",
    "print(\"遊戲結束\")"
   ]
  }
 ],
 "metadata": {
  "kernelspec": {
   "display_name": "Python 3",
   "language": "python",
   "name": "python3"
  },
  "language_info": {
   "codemirror_mode": {
    "name": "ipython",
    "version": 3
   },
   "file_extension": ".py",
   "mimetype": "text/x-python",
   "name": "python",
   "nbconvert_exporter": "python",
   "pygments_lexer": "ipython3",
   "version": "3.10.13"
  }
 },
 "nbformat": 4,
 "nbformat_minor": 2
}
